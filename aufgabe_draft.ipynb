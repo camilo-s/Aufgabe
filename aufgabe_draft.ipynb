{
 "cells": [
  {
   "cell_type": "code",
   "execution_count": null,
   "metadata": {},
   "outputs": [],
   "source": [
    "import pandas as pd\n",
    "import numpy as np\n",
    "\n",
    "# do a preliminary read of the csv and attempt to parse column types\n",
    "dev_2017_pre = pd.read_csv('consumption_deviation_FR_new.csv', sep=';', decimal=',', parse_dates=['timestamp'])\n",
    "\n",
    "print(dev_2017_pre)\n",
    "\n",
    "# since the quantity column is parsed generically as object, \n",
    "# it likely includes some anomalous (e.g. missing) values \n",
    "print(dev_2017_pre.dtypes)"
   ]
  },
  {
   "cell_type": "code",
   "execution_count": null,
   "metadata": {},
   "outputs": [],
   "source": [
    "# rows indices 13594, 13595, 13596 are missing values for deviation\n",
    "print(dev_2017_pre[dev_2017_pre['quantity']=='na'])\n"
   ]
  },
  {
   "cell_type": "code",
   "execution_count": null,
   "metadata": {},
   "outputs": [],
   "source": [
    "# since only few rows contain missing quantity values, \n",
    "# we just load the csv again skipping them\n",
    "# use \n",
    "dev_2017 = pd.read_csv('consumption_deviation_FR_new.csv', sep=';', decimal=',', parse_dates=['timestamp'], skiprows=range(13595,13598))\n",
    "\n",
    "# check that rows with missing quantity values have been removed\n",
    "# print(dev_2017[dev_2017['quantity']=='na'])\n",
    "\n",
    "# another ignored option: filter the loaded dataframe directly.\n",
    "# however, here we would need to replace commas\n",
    "# by periods as decimal separators in order to be\n",
    "# able to parse them as floats\n",
    "\n",
    "# dev_2017 = dev_2017_pre.loc[dev_2017_pre['quantity']!='na']"
   ]
  },
  {
   "cell_type": "code",
   "execution_count": null,
   "metadata": {},
   "outputs": [],
   "source": [
    "# the column types are now correctly parsed\n",
    "dev_2017.dtypes"
   ]
  },
  {
   "cell_type": "code",
   "execution_count": null,
   "metadata": {},
   "outputs": [],
   "source": [
    "# there seem to be some extreme outliers\n",
    "dev_2017.describe()"
   ]
  },
  {
   "cell_type": "code",
   "execution_count": null,
   "metadata": {},
   "outputs": [],
   "source": [
    "# look for the timestamps corresponding to these extremes\n",
    "dev_2017.set_index('timestamp', inplace=True, drop=True)\n",
    "dev_2017.loc[dev_2017.idxmin()]"
   ]
  },
  {
   "cell_type": "code",
   "execution_count": null,
   "metadata": {},
   "outputs": [],
   "source": [
    "# the maximum value is not as absurd as the minimum, so no\n",
    "# need to drop it\n",
    "\n",
    "dev_2017.loc[dev_2017.idxmax()]"
   ]
  },
  {
   "cell_type": "code",
   "execution_count": null,
   "metadata": {},
   "outputs": [],
   "source": [
    "# the entry corresponding to the minimum value is suspicious\n",
    "# as there don't exist news of massive energy consumption \n",
    "# in france on that date. let's drop it from the dataframe\n",
    "\n",
    "# i should drop outliers more systematically, like with a \n",
    "# lambda function\n",
    "dev_2017.drop(dev_2017.idxmin(), inplace=True)\n"
   ]
  },
  {
   "cell_type": "code",
   "execution_count": null,
   "metadata": {},
   "outputs": [],
   "source": [
    "# the new minimum is also suspicious, let's drop it as well\n",
    "dev_2017.loc[dev_2017.idxmin()]"
   ]
  },
  {
   "cell_type": "code",
   "execution_count": null,
   "metadata": {},
   "outputs": [],
   "source": [
    "dev_2017.drop(dev_2017.idxmin(), inplace=True)"
   ]
  },
  {
   "cell_type": "code",
   "execution_count": null,
   "metadata": {},
   "outputs": [],
   "source": [
    "# the resulting minimum seems more realistic, so we'll keep it\n",
    "\n",
    "dev_2017.loc[dev_2017.idxmin()]"
   ]
  },
  {
   "cell_type": "code",
   "execution_count": null,
   "metadata": {},
   "outputs": [],
   "source": [
    "# now let's have a look at the time series. it would be\n",
    "# unintelligible if we hadn't removed the outliers\n",
    "dev_2017.plot()"
   ]
  },
  {
   "cell_type": "code",
   "execution_count": null,
   "metadata": {},
   "outputs": [],
   "source": [
    "# since we are interested in the relation between average \n",
    "# consumption and average temperature on a half-hourly basis,\n",
    "# aggregate the consumption data. this will only affect the \n",
    "# rows for the last day of the year, which have a quarter-hourly \n",
    "# granularity as opposed to the half-hourly of the remaining\n",
    "# rows, and will re-introduce the rows we excluded earlier\n",
    "# for being outliers, now with value NaN, so we should look out\n",
    "dev_2017_half = dev_2017.resample('30T').mean()\n",
    "dev_2017_half.tail(10)"
   ]
  },
  {
   "cell_type": "code",
   "execution_count": null,
   "metadata": {},
   "outputs": [],
   "source": [
    "dev_2017_half.loc['2017-11-05']"
   ]
  },
  {
   "cell_type": "code",
   "execution_count": null,
   "metadata": {},
   "outputs": [],
   "source": [
    "dev_2017_half.plot()"
   ]
  },
  {
   "cell_type": "code",
   "execution_count": null,
   "metadata": {},
   "outputs": [],
   "source": [
    "dev_2017_half.index"
   ]
  },
  {
   "cell_type": "code",
   "execution_count": null,
   "metadata": {},
   "outputs": [],
   "source": [
    "# let us now data corresponding to temperatures\n",
    "# first i will restrict to data from a station \n",
    "# close to paris, named LFPB\n",
    "\n",
    "paris_temp_2017_pre = pd.read_csv('LFPB.txt', skiprows=5, parse_dates=True, usecols=['valid', 'tmpc'], index_col='valid')"
   ]
  },
  {
   "cell_type": "code",
   "execution_count": null,
   "metadata": {},
   "outputs": [],
   "source": [
    "paris_temp_2017_pre.head(10)"
   ]
  },
  {
   "cell_type": "code",
   "execution_count": null,
   "metadata": {},
   "outputs": [],
   "source": [
    "paris_temp_2017_pre.dtypes"
   ]
  },
  {
   "cell_type": "code",
   "execution_count": null,
   "metadata": {},
   "outputs": [],
   "source": [
    "paris_temp_2017_pre.index"
   ]
  },
  {
   "cell_type": "code",
   "execution_count": null,
   "metadata": {},
   "outputs": [],
   "source": [
    "# since we are interested in consumption data on a half-hourly\n",
    "# basis, we need to make sure this is the granularity of the\n",
    "# temperature data as well. for this, we can fill missing values\n",
    "# values via forward fill, as we don't expect much temperature\n",
    "# variation on short time intervals\n",
    "\n",
    "paris_temp_2017 = paris_temp_2017_pre.resample('30T').ffill()\n",
    "\n"
   ]
  },
  {
   "cell_type": "code",
   "execution_count": null,
   "metadata": {},
   "outputs": [],
   "source": [
    "paris_temp_2017"
   ]
  },
  {
   "cell_type": "code",
   "execution_count": null,
   "metadata": {},
   "outputs": [],
   "source": [
    "# let's do the same with the historical temperature data from\n",
    "# the same weather station near paris, which comprises measurements\n",
    "# from 2010 to 2016\n",
    "\n",
    "paris_temp_hist_pre = pd.read_csv('LFPB_historical.txt', skiprows=5, parse_dates=True, usecols=['valid', 'tmpc'], index_col='valid')"
   ]
  },
  {
   "cell_type": "code",
   "execution_count": null,
   "metadata": {},
   "outputs": [],
   "source": [
    "paris_temp_hist_pre.head(10)"
   ]
  },
  {
   "cell_type": "code",
   "execution_count": null,
   "metadata": {},
   "outputs": [],
   "source": [
    "# uniformize the granularity of this dataset\n",
    "# here asfreq or resample don't work because it says there are \n",
    "# nonunique index values\n",
    "\n",
    "# this is because apparently index_cols doesn't check \n",
    "# for uniqueness of index values, as illustrated below\n",
    "\n",
    "paris_temp_hist = paris_temp_hist_pre.resample('30T').ffill()"
   ]
  },
  {
   "cell_type": "code",
   "execution_count": null,
   "metadata": {},
   "outputs": [],
   "source": [
    "paris_temp_hist_pre[paris_temp_hist_pre.index.duplicated()]"
   ]
  },
  {
   "cell_type": "code",
   "execution_count": null,
   "metadata": {},
   "outputs": [],
   "source": [
    "paris_temp_hist_pre.loc['2010-03-28 22:00:00']"
   ]
  },
  {
   "cell_type": "code",
   "execution_count": null,
   "metadata": {},
   "outputs": [],
   "source": [
    "# let's re-read the csv without setting the index column,\n",
    "# setting the index after removing duplicate timestamps\n",
    "paris_temp_hist_pre = pd.read_csv('LFPB_historical.txt', skiprows=5, parse_dates=['valid'], usecols=['valid', 'tmpc']).drop_duplicates('valid', keep='first').set_index('valid')"
   ]
  },
  {
   "cell_type": "code",
   "execution_count": null,
   "metadata": {},
   "outputs": [],
   "source": [
    "paris_temp_hist_pre.index"
   ]
  },
  {
   "cell_type": "code",
   "execution_count": null,
   "metadata": {},
   "outputs": [],
   "source": [
    "paris_temp_hist_pre"
   ]
  },
  {
   "cell_type": "code",
   "execution_count": null,
   "metadata": {},
   "outputs": [],
   "source": [
    "# now we can make sure the granularity is 30 minutes\n",
    "\n",
    "paris_temp_hist = paris_temp_hist_pre.resample('30T').ffill()"
   ]
  },
  {
   "cell_type": "code",
   "execution_count": null,
   "metadata": {},
   "outputs": [],
   "source": [
    "paris_temp_hist.index"
   ]
  },
  {
   "cell_type": "code",
   "execution_count": null,
   "metadata": {},
   "outputs": [],
   "source": [
    "# we will start by generating an average value of the temperature\n",
    "# for every half-hour of the year\n",
    "\n",
    "paris_temp_avg = paris_temp_hist['tmpc'].groupby([paris_temp_hist.index.month, \n",
    "                                         paris_temp_hist.index.day, \n",
    "                                         paris_temp_hist.index.hour, \n",
    "                                         paris_temp_hist.index.minute]).agg([np.mean, np.std])"
   ]
  },
  {
   "cell_type": "code",
   "execution_count": null,
   "metadata": {},
   "outputs": [],
   "source": [
    "# this dataframe contains a bit too many half-hours because the year\n",
    "# range comprises the leap years 2012 and 2016. since 2017 is not leap,\n",
    "# we should exclude the leap days \n",
    "# (optimally, do the comparison based on whether the year to predict\n",
    "# consumption for is leap or not)\n",
    "paris_temp_avg"
   ]
  },
  {
   "cell_type": "code",
   "execution_count": null,
   "metadata": {},
   "outputs": [],
   "source": [
    "# for the purpose of this draft, on the context of 2017, we force\n",
    "# the granularity once more, this time filtering out the leap days\n",
    "\n",
    "paris_temp_hist_leap = paris_temp_hist_pre.resample('30T').ffill()\n",
    "paris_temp_hist=paris_temp_hist_leap.loc[~((paris_temp_hist_leap.index.month==2) & (paris_temp_hist_leap.index.day==29))]\n",
    "\n",
    "# maybe it's not allowed to filter out entries at this point since \n",
    "# the index has an associated frequency\n",
    "\n",
    "# turns out you can filter it like this. in the boolean mask i was using\n",
    "# paris_temp_hist_pre instead of paris_temp_hist_leap "
   ]
  },
  {
   "cell_type": "code",
   "execution_count": null,
   "metadata": {},
   "outputs": [],
   "source": [
    "paris_temp_hist"
   ]
  },
  {
   "cell_type": "code",
   "execution_count": null,
   "metadata": {},
   "outputs": [],
   "source": [
    "# and lets aggregate on a half-hour basis, ignoring year,\n",
    "# once more, to check that excluding the leap day gives\n",
    "# the correct number of halfhours in a year\n",
    "\n",
    "# this doesn't work either for the same reason as above\n",
    "\n",
    "# turns out this does work!\n",
    "\n",
    "paris_temp_avg = paris_temp_hist.loc[~((paris_temp_hist.index.month==2) & (paris_temp_hist.index.day==29))].groupby([paris_temp_hist.index.month, \n",
    "                                         paris_temp_hist.index.day, \n",
    "                                         paris_temp_hist.index.hour, \n",
    "                                         paris_temp_hist.index.minute]).mean()"
   ]
  },
  {
   "cell_type": "code",
   "execution_count": null,
   "metadata": {},
   "outputs": [],
   "source": [
    "paris_temp_avg"
   ]
  },
  {
   "cell_type": "code",
   "execution_count": null,
   "metadata": {},
   "outputs": [],
   "source": [
    "# the leap years can only be filtered at this point\n",
    "\n",
    "paris_temp_avg_noleap = paris_temp_avg.loc[~((paris_temp_avg.index.get_level_values(0)==2) & (paris_temp_avg.index.get_level_values(1)==29))]"
   ]
  },
  {
   "cell_type": "code",
   "execution_count": null,
   "metadata": {
    "scrolled": true
   },
   "outputs": [],
   "source": [
    "[paris_temp_avg_noleap['year'],paris_temp_avg_noleap['month'],paris_temp_avg_noleap['day'],paris_temp_avg_noleap['hour'],paris_temp_avg_noleap['minute']]=[2017]+[paris_temp_avg_noleap.index.get_level_values(i) for i in range(4)]"
   ]
  },
  {
   "cell_type": "code",
   "execution_count": null,
   "metadata": {},
   "outputs": [],
   "source": [
    "# aggregating data using multiindex groupby is troublesome,\n",
    "# maybe it's better to do it this way\n",
    "\n",
    "current_year = '2017'\n",
    "paris_temp_hist['time_of_year']=pd.to_datetime(paris_temp_hist.index.strftime(current_year+'-%m-%d %H:%M:%S'))"
   ]
  },
  {
   "cell_type": "code",
   "execution_count": null,
   "metadata": {},
   "outputs": [],
   "source": [
    "paris_temp_hist"
   ]
  },
  {
   "cell_type": "code",
   "execution_count": null,
   "metadata": {},
   "outputs": [],
   "source": [
    "paris_temp_avg = paris_temp_hist.groupby(['time_of_year']).agg([np.mean, np.std])"
   ]
  },
  {
   "cell_type": "code",
   "execution_count": null,
   "metadata": {},
   "outputs": [],
   "source": [
    "paris_temp_avg"
   ]
  },
  {
   "cell_type": "code",
   "execution_count": null,
   "metadata": {},
   "outputs": [],
   "source": [
    "paris_temp_avg.index"
   ]
  },
  {
   "cell_type": "code",
   "execution_count": null,
   "metadata": {},
   "outputs": [],
   "source": [
    "# another option would be to create a dataframe with columns \n",
    "# indexed by year. Here I would need to come up with a way to\n",
    "# line up the leap days. Will keep it in MIND!!!"
   ]
  },
  {
   "cell_type": "code",
   "execution_count": null,
   "metadata": {},
   "outputs": [],
   "source": [
    "# measurements corresponding to dec 31st are missing, so we\n",
    "# will enlarge the index and fill with the temperatures from\n",
    "# dec 30th\n",
    "paris_temp_2017.index"
   ]
  },
  {
   "cell_type": "code",
   "execution_count": null,
   "metadata": {},
   "outputs": [],
   "source": [
    "complete_2017 = pd.date_range('2017-01-01 00:00:00', '2017-12-31 23:30:00', freq='30T')"
   ]
  },
  {
   "cell_type": "code",
   "execution_count": null,
   "metadata": {},
   "outputs": [],
   "source": [
    "complete_2017"
   ]
  },
  {
   "cell_type": "code",
   "execution_count": null,
   "metadata": {},
   "outputs": [],
   "source": [
    "paris_temp_2017_complete = paris_temp_2017.reindex(complete_2017)"
   ]
  },
  {
   "cell_type": "code",
   "execution_count": null,
   "metadata": {},
   "outputs": [],
   "source": [
    "paris_temp_2017_complete['2017-12-31']=paris_temp_2017_complete['2017-12-30'].values"
   ]
  },
  {
   "cell_type": "code",
   "execution_count": null,
   "metadata": {},
   "outputs": [],
   "source": [
    "paris_temp_2017_complete['2017-12-31']"
   ]
  },
  {
   "cell_type": "code",
   "execution_count": null,
   "metadata": {},
   "outputs": [],
   "source": [
    "paris_temp = paris_temp_2017_complete.join(paris_temp_avg['tmpc']['mean'])"
   ]
  },
  {
   "cell_type": "code",
   "execution_count": null,
   "metadata": {},
   "outputs": [],
   "source": [
    "paris_temp['deviation']=paris_temp['tmpc']-paris_temp['mean']"
   ]
  },
  {
   "cell_type": "code",
   "execution_count": null,
   "metadata": {},
   "outputs": [],
   "source": [
    "paris_temp"
   ]
  },
  {
   "cell_type": "code",
   "execution_count": null,
   "metadata": {},
   "outputs": [],
   "source": [
    "import matplotlib.pyplot as plt\n",
    "plt.scatter(paris_temp['deviation'], dev_2017_half['quantity'], s=5, c=paris_temp.index.month, marker='.')"
   ]
  },
  {
   "cell_type": "code",
   "execution_count": null,
   "metadata": {},
   "outputs": [],
   "source": [
    "[paris_temp.loc['2017-'+str(i),'deviation'].corr(dev_2017_half.loc['2017-'+str(i),'quantity']) for i in range(1,13)]"
   ]
  },
  {
   "cell_type": "code",
   "execution_count": null,
   "metadata": {},
   "outputs": [],
   "source": [
    "paris_temp.describe()\n"
   ]
  },
  {
   "cell_type": "code",
   "execution_count": null,
   "metadata": {},
   "outputs": [],
   "source": [
    "paris_temp.loc[paris_temp['deviation'].idxmax()]"
   ]
  },
  {
   "cell_type": "code",
   "execution_count": null,
   "metadata": {},
   "outputs": [],
   "source": [
    "paris_temp.loc[paris_temp['deviation'].idxmin()]"
   ]
  },
  {
   "cell_type": "code",
   "execution_count": null,
   "metadata": {},
   "outputs": [],
   "source": [
    "paris_temp['deviation'].hist(bins=100)"
   ]
  },
  {
   "cell_type": "code",
   "execution_count": null,
   "metadata": {},
   "outputs": [],
   "source": [
    "dev_2017_half['quantity'].hist(bins=100)"
   ]
  },
  {
   "cell_type": "markdown",
   "metadata": {},
   "source": [
    "# Now let's load all the data, historical and 2017, in a single dataframe that we will pivot to get columns of temperature by year and weather station \n",
    "\n",
    "We will now load temperature records from 2006 to 2017 as measured by six weather stations, located near six cities. These cities are among the ten most populated cities in France, and are chosen to lie geographically distributed in France (only by eye). The weather station names and the corresponding cities are listed below:\n",
    "- LFBO: Toulousse\n",
    "- LFLY: Lyon\n",
    "- LFML: Marseille\n",
    "- LFPB: Paris\n",
    "- LFRS: Nantes\n",
    "- LFQQ: Lille\n",
    "\n",
    "*Caution: I just realized that the timestamps of these measurements are given in UTC, whereas the consumption deviation ones are likely given in France local time*\n"
   ]
  },
  {
   "cell_type": "code",
   "execution_count": null,
   "metadata": {},
   "outputs": [],
   "source": [
    "temperature_all_pre = pd.read_csv('asos_six_cities.txt', sep=',', header=0, names=['station', 'timestamp', 'temperature'], parse_dates=['timestamp'], index_col=['timestamp', 'station'])"
   ]
  },
  {
   "cell_type": "code",
   "execution_count": null,
   "metadata": {},
   "outputs": [],
   "source": [
    "temperature_all_pre"
   ]
  },
  {
   "cell_type": "code",
   "execution_count": null,
   "metadata": {},
   "outputs": [],
   "source": [
    "temperature_all_pre.dtypes"
   ]
  },
  {
   "cell_type": "code",
   "execution_count": null,
   "metadata": {},
   "outputs": [],
   "source": [
    "temperature_all_pre.index.get_level_values(0)"
   ]
  },
  {
   "cell_type": "code",
   "execution_count": null,
   "metadata": {},
   "outputs": [],
   "source": [
    "# apparently there are no missing temperature values. \n",
    "\n",
    "temperature_all_pre[temperature_all_pre['temperature']=='null']"
   ]
  },
  {
   "cell_type": "code",
   "execution_count": null,
   "metadata": {},
   "outputs": [],
   "source": [
    "temperature_all_pre.unstack(level=0)"
   ]
  },
  {
   "cell_type": "code",
   "execution_count": null,
   "metadata": {},
   "outputs": [],
   "source": [
    "# apparently there are duplicate indices. let's check which ones\n",
    "\n",
    "temperature_all_pre[temperature_all_pre.index.duplicated(keep=False)].head(50)"
   ]
  },
  {
   "cell_type": "code",
   "execution_count": null,
   "metadata": {},
   "outputs": [],
   "source": [
    "temperature_all_unique = temperature_all_pre[~temperature_all_pre.index.duplicated(keep='first')]"
   ]
  },
  {
   "cell_type": "code",
   "execution_count": null,
   "metadata": {},
   "outputs": [],
   "source": [
    "temperature_all_unique.head(50)"
   ]
  },
  {
   "cell_type": "code",
   "execution_count": null,
   "metadata": {},
   "outputs": [],
   "source": [
    "# since early records are missing substantial data, let's \n",
    "# pass the starting year for the analysis as a variable\n",
    "\n",
    "starting_year = '2008'\n",
    "\n",
    "temperature_all_stations = temperature_all_unique.unstack()[starting_year:]"
   ]
  },
  {
   "cell_type": "code",
   "execution_count": null,
   "metadata": {},
   "outputs": [],
   "source": [
    "# check the percentage of missing measurements\n",
    "\n",
    "df=temperature_all_stations\n",
    "percent_missing = df.isnull().sum() * 100 / len(df)\n",
    "missing_value_df = pd.DataFrame({'percent_missing': percent_missing})\n",
    "print(missing_value_df)"
   ]
  },
  {
   "cell_type": "code",
   "execution_count": null,
   "metadata": {},
   "outputs": [],
   "source": [
    "# flatten the column multi-index. now the columns are labelled \n",
    "# by the name of the station. as before, the values are the\n",
    "# (backfilled) temperature of the named station at the given \n",
    "# timestamp\n",
    "\n",
    "\n",
    "temperature_all_stations.columns = temperature_all_stations.columns.get_level_values(1)"
   ]
  },
  {
   "cell_type": "code",
   "execution_count": null,
   "metadata": {},
   "outputs": [],
   "source": [
    "# complete the index to encompass all half-hours in the given period\n",
    "# leaving missing values to be interpolated subsequently\n",
    "\n",
    "temperature_all_stations_full_range = temperature_all_stations.asfreq('30T')"
   ]
  },
  {
   "cell_type": "code",
   "execution_count": null,
   "metadata": {},
   "outputs": [],
   "source": [
    "temperature_all_stations_full_range"
   ]
  },
  {
   "cell_type": "code",
   "execution_count": null,
   "metadata": {},
   "outputs": [],
   "source": [
    "temperature_all_stations_filled = temperature_all_stations_full_range.interpolate()"
   ]
  },
  {
   "cell_type": "code",
   "execution_count": null,
   "metadata": {},
   "outputs": [],
   "source": [
    "# for some reason, the last measurement on 2017 is on dec 30th\n",
    "# let's enlarge the index by the last day of 2017 and reproduce\n",
    "# the same temperatures as those of the 30th\n",
    "\n",
    "last_day = pd.date_range(start='2017-12-31', freq='30T', periods=48)\n",
    "complete_index = temperature_all_stations_filled.index.union(last_day)\n",
    "temperature_all_stations_complete = temperature_all_stations_filled.reindex(complete_index)\n",
    "temperature_all_stations_complete['2017-12-31'] = temperature_all_stations_complete['2017-12-30'].values"
   ]
  },
  {
   "cell_type": "code",
   "execution_count": null,
   "metadata": {},
   "outputs": [],
   "source": [
    "temperature_all_stations_complete['time_of_year'] = temperature_all_stations_complete.index.strftime('%m-%d %H:%M:%S')"
   ]
  },
  {
   "cell_type": "code",
   "execution_count": null,
   "metadata": {},
   "outputs": [],
   "source": [
    "temperature_all_stations_complete['stationwise-mean'],temperature_all_stations_complete['stationwise-std'] = temperature_all_stations_complete.mean(axis=1), temperature_all_stations_complete.std(axis=1)"
   ]
  },
  {
   "cell_type": "code",
   "execution_count": null,
   "metadata": {},
   "outputs": [],
   "source": [
    "temperature_all_stations_complete"
   ]
  },
  {
   "cell_type": "code",
   "execution_count": null,
   "metadata": {},
   "outputs": [],
   "source": [
    "temperature_all_stations_complete.groupby('time_of_year').mean()"
   ]
  },
  {
   "cell_type": "code",
   "execution_count": null,
   "metadata": {},
   "outputs": [],
   "source": [
    "temp_2017 = temperature_all_stations_complete['2017'][['stationwise-mean']]"
   ]
  },
  {
   "cell_type": "code",
   "execution_count": null,
   "metadata": {},
   "outputs": [],
   "source": [
    "temp_2017\n"
   ]
  },
  {
   "cell_type": "code",
   "execution_count": null,
   "metadata": {},
   "outputs": [],
   "source": [
    "temp_hist = (temperature_all_stations_complete[:'2016'][['stationwise-mean', 'time_of_year']]\n",
    "             .groupby('time_of_year')\n",
    "             .mean())"
   ]
  },
  {
   "cell_type": "code",
   "execution_count": null,
   "metadata": {},
   "outputs": [],
   "source": [
    "temp_hist_noleap = temp_hist[~temp_hist.index.str.contains('02-29', regex=False)]"
   ]
  },
  {
   "cell_type": "code",
   "execution_count": null,
   "metadata": {},
   "outputs": [],
   "source": [
    "temp_hist"
   ]
  },
  {
   "cell_type": "code",
   "execution_count": null,
   "metadata": {},
   "outputs": [],
   "source": [
    "temp_hist_noleap['not_a_timestamp'] = pd.to_datetime('2017-'+temp_hist_noleap.index)"
   ]
  },
  {
   "cell_type": "code",
   "execution_count": null,
   "metadata": {},
   "outputs": [],
   "source": [
    "temp_hist_noleap.set_index('not_a_timestamp', inplace=True, drop=True)"
   ]
  },
  {
   "cell_type": "code",
   "execution_count": null,
   "metadata": {},
   "outputs": [],
   "source": [
    "temp_hist_noleap"
   ]
  },
  {
   "cell_type": "code",
   "execution_count": null,
   "metadata": {},
   "outputs": [],
   "source": [
    "temp_hist_noleap.index"
   ]
  },
  {
   "cell_type": "code",
   "execution_count": null,
   "metadata": {},
   "outputs": [],
   "source": [
    "temp_2017['deviation']=temp_2017['stationwise-mean']-temp_hist_noleap['stationwise-mean']"
   ]
  },
  {
   "cell_type": "code",
   "execution_count": null,
   "metadata": {},
   "outputs": [],
   "source": [
    "temp_2017\n"
   ]
  },
  {
   "cell_type": "code",
   "execution_count": null,
   "metadata": {},
   "outputs": [],
   "source": [
    "plt.scatter(temp_2017['deviation'], dev_2017_half['quantity'], s=5, c=paris_temp.index.month, marker='.')"
   ]
  },
  {
   "cell_type": "code",
   "execution_count": null,
   "metadata": {},
   "outputs": [],
   "source": [
    "plt.scatter(paris_temp['deviation'], dev_2017_half['quantity'], s=5, c=paris_temp.index.month, marker='.')"
   ]
  },
  {
   "cell_type": "code",
   "execution_count": null,
   "metadata": {},
   "outputs": [],
   "source": [
    "[paris_temp.loc['2017-'+str(i),'deviation'].corr(dev_2017_half.loc['2017-'+str(i),'quantity']) for i in range(1,13)]"
   ]
  },
  {
   "cell_type": "code",
   "execution_count": null,
   "metadata": {},
   "outputs": [],
   "source": [
    "[temp_2017.loc['2017-'+str(i),'deviation'].corr(dev_2017_half.loc['2017-'+str(i),'quantity']) for i in range(1,13)]"
   ]
  },
  {
   "cell_type": "code",
   "execution_count": null,
   "metadata": {},
   "outputs": [],
   "source": [
    "temp_2017"
   ]
  },
  {
   "cell_type": "code",
   "execution_count": null,
   "metadata": {},
   "outputs": [],
   "source": [
    "# let's categorize dates according to meteorological season.\n",
    "# these differ from the astronomical seasons in that they \n",
    "# begin with the month and exhibit the hottest (in summer)\n",
    "# and the coldest (in winter) quarters of the year\n",
    "\n",
    "def get_season(timestamp):\n",
    "    \n",
    "    spring = range(3,6)\n",
    "    summer = range(6,9)\n",
    "    autumn = range(9,12)\n",
    "        \n",
    "    if timestamp.month in spring: return 'spring'\n",
    "    elif timestamp.month in summer: return 'summer'\n",
    "    elif timestamp.month in autumn: return 'autumn'\n",
    "    else: return 'winter'\n",
    "    \n",
    "    "
   ]
  },
  {
   "cell_type": "code",
   "execution_count": null,
   "metadata": {},
   "outputs": [],
   "source": [
    "temp_2017['season'] = temp_2017.index.map(get_season)"
   ]
  },
  {
   "cell_type": "code",
   "execution_count": null,
   "metadata": {},
   "outputs": [],
   "source": [
    "temp_2017['2017-04']"
   ]
  },
  {
   "cell_type": "code",
   "execution_count": null,
   "metadata": {},
   "outputs": [],
   "source": [
    "temp_2017[temp_2017['season']=='summer']"
   ]
  },
  {
   "cell_type": "code",
   "execution_count": null,
   "metadata": {},
   "outputs": [],
   "source": [
    "plt.scatter(temp_2017[temp_2017.index.map(get_season)=='summer']['deviation'], dev_2017_half[dev_2017_half.index.map(get_season)=='summer']['quantity'], s=5, marker='.')"
   ]
  },
  {
   "cell_type": "code",
   "execution_count": null,
   "metadata": {},
   "outputs": [],
   "source": [
    "plt.scatter(temp_2017[temp_2017.index.map(get_season)=='winter']['deviation'], dev_2017_half[dev_2017_half.index.map(get_season)=='winter']['quantity'], s=5, marker='.')"
   ]
  },
  {
   "cell_type": "markdown",
   "metadata": {},
   "source": [
    "# TASK: Temperature and forecast deviations\n",
    "\n",
    "\n",
    "In this task, we are provided a time series representing the physical deficit or surplus of electricity consumption in France during the year **2017**. This data exhibits the uncertainty in the prediction of electricity production and consumption by actors in the french electricity market. Since such deviations from actual consumption entail costs for market actors, it is important to aim at minimizing them, using whichever data available.\n",
    "\n",
    "Temperature forecasts can be used as a basic indicator for deviations of energy consumption. Indeed, since usage of heating or air-conditioning is influenced by air temperature, utilities partly base their consumption forecast for a time period on a temperature forecast, especially during winter and summer. Thus, actual electricity consumption may be larger than anticipated if a summer is hotter or a winter is colder than expected. "
   ]
  },
  {
   "cell_type": "markdown",
   "metadata": {},
   "source": [
    "- [ ] State the language and the libraries that will be used for the analysis, and load them here."
   ]
  },
  {
   "cell_type": "code",
   "execution_count": 1,
   "metadata": {},
   "outputs": [],
   "source": [
    "import pandas as pd\n",
    "import numpy as np\n",
    "from scipy import stats\n",
    "import matplotlib.pyplot as plt\n",
    "import seaborn as sns\n",
    "sns.set(rc={'figure.figsize':(5,5)})"
   ]
  },
  {
   "cell_type": "markdown",
   "metadata": {},
   "source": [
    "\n",
    "## Electricity consumption data\n",
    "\n",
    "We start by loading the time series of consumption deviation in France. "
   ]
  },
  {
   "cell_type": "code",
   "execution_count": 2,
   "metadata": {},
   "outputs": [],
   "source": [
    "dev_2017_pre = pd.read_csv('consumption_deviation_FR_new.csv', sep=';', decimal=',', parse_dates=['timestamp'])"
   ]
  },
  {
   "cell_type": "markdown",
   "metadata": {},
   "source": [
    "The time seriers contains deviation records for every half-hour in the year 2017 (with the exception of December 31st, where the granularity is quarter-hourly)"
   ]
  },
  {
   "cell_type": "code",
   "execution_count": 3,
   "metadata": {},
   "outputs": [
    {
     "data": {
      "text/html": [
       "<div>\n",
       "<style scoped>\n",
       "    .dataframe tbody tr th:only-of-type {\n",
       "        vertical-align: middle;\n",
       "    }\n",
       "\n",
       "    .dataframe tbody tr th {\n",
       "        vertical-align: top;\n",
       "    }\n",
       "\n",
       "    .dataframe thead th {\n",
       "        text-align: right;\n",
       "    }\n",
       "</style>\n",
       "<table border=\"1\" class=\"dataframe\">\n",
       "  <thead>\n",
       "    <tr style=\"text-align: right;\">\n",
       "      <th></th>\n",
       "      <th>timestamp</th>\n",
       "      <th>quantity</th>\n",
       "    </tr>\n",
       "  </thead>\n",
       "  <tbody>\n",
       "    <tr>\n",
       "      <th>0</th>\n",
       "      <td>2017-01-01 00:00:00</td>\n",
       "      <td>-44,875</td>\n",
       "    </tr>\n",
       "    <tr>\n",
       "      <th>1</th>\n",
       "      <td>2017-01-01 00:30:00</td>\n",
       "      <td>-18,125</td>\n",
       "    </tr>\n",
       "    <tr>\n",
       "      <th>2</th>\n",
       "      <td>2017-01-01 01:00:00</td>\n",
       "      <td>-10,375</td>\n",
       "    </tr>\n",
       "    <tr>\n",
       "      <th>3</th>\n",
       "      <td>2017-01-01 01:30:00</td>\n",
       "      <td>7,125</td>\n",
       "    </tr>\n",
       "    <tr>\n",
       "      <th>4</th>\n",
       "      <td>2017-01-01 02:00:00</td>\n",
       "      <td>-43,375</td>\n",
       "    </tr>\n",
       "    <tr>\n",
       "      <th>...</th>\n",
       "      <td>...</td>\n",
       "      <td>...</td>\n",
       "    </tr>\n",
       "    <tr>\n",
       "      <th>17535</th>\n",
       "      <td>2017-12-31 22:45:00</td>\n",
       "      <td>-21,48982889</td>\n",
       "    </tr>\n",
       "    <tr>\n",
       "      <th>17536</th>\n",
       "      <td>2017-12-31 23:00:00</td>\n",
       "      <td>-7,807809406</td>\n",
       "    </tr>\n",
       "    <tr>\n",
       "      <th>17537</th>\n",
       "      <td>2017-12-31 23:15:00</td>\n",
       "      <td>-56,69726053</td>\n",
       "    </tr>\n",
       "    <tr>\n",
       "      <th>17538</th>\n",
       "      <td>2017-12-31 23:30:00</td>\n",
       "      <td>21,83256871</td>\n",
       "    </tr>\n",
       "    <tr>\n",
       "      <th>17539</th>\n",
       "      <td>2017-12-31 23:45:00</td>\n",
       "      <td>4,452218702</td>\n",
       "    </tr>\n",
       "  </tbody>\n",
       "</table>\n",
       "<p>17540 rows × 2 columns</p>\n",
       "</div>"
      ],
      "text/plain": [
       "                timestamp      quantity\n",
       "0     2017-01-01 00:00:00       -44,875\n",
       "1     2017-01-01 00:30:00       -18,125\n",
       "2     2017-01-01 01:00:00       -10,375\n",
       "3     2017-01-01 01:30:00         7,125\n",
       "4     2017-01-01 02:00:00       -43,375\n",
       "...                   ...           ...\n",
       "17535 2017-12-31 22:45:00  -21,48982889\n",
       "17536 2017-12-31 23:00:00  -7,807809406\n",
       "17537 2017-12-31 23:15:00  -56,69726053\n",
       "17538 2017-12-31 23:30:00   21,83256871\n",
       "17539 2017-12-31 23:45:00   4,452218702\n",
       "\n",
       "[17540 rows x 2 columns]"
      ]
     },
     "execution_count": 3,
     "metadata": {},
     "output_type": "execute_result"
    }
   ],
   "source": [
    "dev_2017_pre"
   ]
  },
  {
   "cell_type": "markdown",
   "metadata": {},
   "source": [
    "### Parsing data\n",
    "\n",
    "Since pandas is not parsing the column 'quantity' as a float, there must be values that don't correspond to numbers."
   ]
  },
  {
   "cell_type": "code",
   "execution_count": 4,
   "metadata": {},
   "outputs": [
    {
     "name": "stdout",
     "output_type": "stream",
     "text": [
      "timestamp    datetime64[ns]\n",
      "quantity             object\n",
      "dtype: object\n"
     ]
    }
   ],
   "source": [
    "print(dev_2017_pre.dtypes)\n",
    "\n",
    "# coerce sets unparsed values as NaN\n",
    "\n",
    "dev_2017_pre['quantity'] = pd.to_numeric(dev_2017_pre['quantity'].str.replace(',','.'), errors='coerce')"
   ]
  },
  {
   "cell_type": "markdown",
   "metadata": {},
   "source": [
    "There are just three consecutive missing quantity values. Since deviation data is rather discontinuous, we will these entries unspecified for the moment."
   ]
  },
  {
   "cell_type": "code",
   "execution_count": 5,
   "metadata": {},
   "outputs": [
    {
     "data": {
      "text/html": [
       "<div>\n",
       "<style scoped>\n",
       "    .dataframe tbody tr th:only-of-type {\n",
       "        vertical-align: middle;\n",
       "    }\n",
       "\n",
       "    .dataframe tbody tr th {\n",
       "        vertical-align: top;\n",
       "    }\n",
       "\n",
       "    .dataframe thead th {\n",
       "        text-align: right;\n",
       "    }\n",
       "</style>\n",
       "<table border=\"1\" class=\"dataframe\">\n",
       "  <thead>\n",
       "    <tr style=\"text-align: right;\">\n",
       "      <th></th>\n",
       "      <th>timestamp</th>\n",
       "      <th>quantity</th>\n",
       "    </tr>\n",
       "  </thead>\n",
       "  <tbody>\n",
       "    <tr>\n",
       "      <th>13594</th>\n",
       "      <td>2017-11-10 16:00:00</td>\n",
       "      <td>NaN</td>\n",
       "    </tr>\n",
       "    <tr>\n",
       "      <th>13595</th>\n",
       "      <td>2017-11-10 16:30:00</td>\n",
       "      <td>NaN</td>\n",
       "    </tr>\n",
       "    <tr>\n",
       "      <th>13596</th>\n",
       "      <td>2017-11-10 17:00:00</td>\n",
       "      <td>NaN</td>\n",
       "    </tr>\n",
       "  </tbody>\n",
       "</table>\n",
       "</div>"
      ],
      "text/plain": [
       "                timestamp  quantity\n",
       "13594 2017-11-10 16:00:00       NaN\n",
       "13595 2017-11-10 16:30:00       NaN\n",
       "13596 2017-11-10 17:00:00       NaN"
      ]
     },
     "execution_count": 5,
     "metadata": {},
     "output_type": "execute_result"
    }
   ],
   "source": [
    "dev_2017_pre[dev_2017_pre['quantity'].isnull()]"
   ]
  },
  {
   "cell_type": "markdown",
   "metadata": {},
   "source": [
    "### Removing outliers\n",
    "\n",
    "Notice below that the mean and the median differ a lot. This indicates that the time series contains some extreme outliers which we need to take care of."
   ]
  },
  {
   "cell_type": "code",
   "execution_count": 6,
   "metadata": {},
   "outputs": [
    {
     "data": {
      "text/html": [
       "<div>\n",
       "<style scoped>\n",
       "    .dataframe tbody tr th:only-of-type {\n",
       "        vertical-align: middle;\n",
       "    }\n",
       "\n",
       "    .dataframe tbody tr th {\n",
       "        vertical-align: top;\n",
       "    }\n",
       "\n",
       "    .dataframe thead th {\n",
       "        text-align: right;\n",
       "    }\n",
       "</style>\n",
       "<table border=\"1\" class=\"dataframe\">\n",
       "  <thead>\n",
       "    <tr style=\"text-align: right;\">\n",
       "      <th></th>\n",
       "      <th>quantity</th>\n",
       "    </tr>\n",
       "  </thead>\n",
       "  <tbody>\n",
       "    <tr>\n",
       "      <th>count</th>\n",
       "      <td>1.753700e+04</td>\n",
       "    </tr>\n",
       "    <tr>\n",
       "      <th>mean</th>\n",
       "      <td>-7.852510e+03</td>\n",
       "    </tr>\n",
       "    <tr>\n",
       "      <th>std</th>\n",
       "      <td>7.435333e+05</td>\n",
       "    </tr>\n",
       "    <tr>\n",
       "      <th>min</th>\n",
       "      <td>-7.898546e+07</td>\n",
       "    </tr>\n",
       "    <tr>\n",
       "      <th>25%</th>\n",
       "      <td>-3.087500e+01</td>\n",
       "    </tr>\n",
       "    <tr>\n",
       "      <th>50%</th>\n",
       "      <td>2.875000e+00</td>\n",
       "    </tr>\n",
       "    <tr>\n",
       "      <th>75%</th>\n",
       "      <td>3.875000e+01</td>\n",
       "    </tr>\n",
       "    <tr>\n",
       "      <th>max</th>\n",
       "      <td>5.651250e+02</td>\n",
       "    </tr>\n",
       "  </tbody>\n",
       "</table>\n",
       "</div>"
      ],
      "text/plain": [
       "           quantity\n",
       "count  1.753700e+04\n",
       "mean  -7.852510e+03\n",
       "std    7.435333e+05\n",
       "min   -7.898546e+07\n",
       "25%   -3.087500e+01\n",
       "50%    2.875000e+00\n",
       "75%    3.875000e+01\n",
       "max    5.651250e+02"
      ]
     },
     "execution_count": 6,
     "metadata": {},
     "output_type": "execute_result"
    }
   ],
   "source": [
    "dev_2017_pre.describe()"
   ]
  },
  {
   "cell_type": "markdown",
   "metadata": {},
   "source": [
    "This is evident in a plot of the time series. To plot it let's first set the timestamp as the index of the dataframe."
   ]
  },
  {
   "cell_type": "code",
   "execution_count": 7,
   "metadata": {},
   "outputs": [
    {
     "data": {
      "text/plain": [
       "<AxesSubplot:xlabel='timestamp'>"
      ]
     },
     "execution_count": 7,
     "metadata": {},
     "output_type": "execute_result"
    },
    {
     "data": {
      "image/png": "[encoded data removed]",
      "text/plain": [
       "<Figure size 360x360 with 1 Axes>"
      ]
     },
     "metadata": {},
     "output_type": "display_data"
    }
   ],
   "source": [
    "dev_2017_pre.set_index('timestamp', inplace=True, drop=True)\n",
    "dev_2017_pre.plot()"
   ]
  },
  {
   "cell_type": "markdown",
   "metadata": {},
   "source": [
    "The outliers seem very scarce. A reasonable way to remove them is using *z-scores*. The z-score of a data point measures how far it lies from the mean value, relative to the standard deviation (dispersion of the data). Here we retain data points that lie within three standard deviations of the mean. This will also remove the three consecutive `NaN` values from above."
   ]
  },
  {
   "cell_type": "code",
   "execution_count": 8,
   "metadata": {},
   "outputs": [
    {
     "data": {
      "text/plain": [
       "<AxesSubplot:xlabel='timestamp'>"
      ]
     },
     "execution_count": 8,
     "metadata": {},
     "output_type": "execute_result"
    },
    {
     "data": {
      "image/png": "[encoded data removed]",
      "text/plain": [
       "<Figure size 360x360 with 1 Axes>"
      ]
     },
     "metadata": {},
     "output_type": "display_data"
    }
   ],
   "source": [
    "dev_2017 = dev_2017_pre.loc[(np.abs(stats.zscore(dev_2017_pre, nan_policy='omit'))<3)]\n",
    "dev_2017.plot()"
   ]
  },
  {
   "cell_type": "markdown",
   "metadata": {},
   "source": [
    "The new mean and minimum values in the dataframe that the outliers we removed were indeed very anomalous."
   ]
  },
  {
   "cell_type": "code",
   "execution_count": 9,
   "metadata": {},
   "outputs": [
    {
     "data": {
      "text/html": [
       "<div>\n",
       "<style scoped>\n",
       "    .dataframe tbody tr th:only-of-type {\n",
       "        vertical-align: middle;\n",
       "    }\n",
       "\n",
       "    .dataframe tbody tr th {\n",
       "        vertical-align: top;\n",
       "    }\n",
       "\n",
       "    .dataframe thead th {\n",
       "        text-align: right;\n",
       "    }\n",
       "</style>\n",
       "<table border=\"1\" class=\"dataframe\">\n",
       "  <thead>\n",
       "    <tr style=\"text-align: right;\">\n",
       "      <th></th>\n",
       "      <th>quantity</th>\n",
       "    </tr>\n",
       "  </thead>\n",
       "  <tbody>\n",
       "    <tr>\n",
       "      <th>count</th>\n",
       "      <td>17535.000000</td>\n",
       "    </tr>\n",
       "    <tr>\n",
       "      <th>mean</th>\n",
       "      <td>4.126121</td>\n",
       "    </tr>\n",
       "    <tr>\n",
       "      <th>std</th>\n",
       "      <td>58.231903</td>\n",
       "    </tr>\n",
       "    <tr>\n",
       "      <th>min</th>\n",
       "      <td>-340.750000</td>\n",
       "    </tr>\n",
       "    <tr>\n",
       "      <th>25%</th>\n",
       "      <td>-30.875000</td>\n",
       "    </tr>\n",
       "    <tr>\n",
       "      <th>50%</th>\n",
       "      <td>2.875000</td>\n",
       "    </tr>\n",
       "    <tr>\n",
       "      <th>75%</th>\n",
       "      <td>38.750000</td>\n",
       "    </tr>\n",
       "    <tr>\n",
       "      <th>max</th>\n",
       "      <td>565.125000</td>\n",
       "    </tr>\n",
       "  </tbody>\n",
       "</table>\n",
       "</div>"
      ],
      "text/plain": [
       "           quantity\n",
       "count  17535.000000\n",
       "mean       4.126121\n",
       "std       58.231903\n",
       "min     -340.750000\n",
       "25%      -30.875000\n",
       "50%        2.875000\n",
       "75%       38.750000\n",
       "max      565.125000"
      ]
     },
     "execution_count": 9,
     "metadata": {},
     "output_type": "execute_result"
    }
   ],
   "source": [
    "dev_2017.describe()"
   ]
  },
  {
   "cell_type": "markdown",
   "metadata": {},
   "source": [
    "### Setting data resolution\n",
    "\n",
    "The task requires to compare consumption and temperature deviations on a daily basis. This is reasonable, since a finer resolution of half-hourly records of consumption deviation has a large variability.\n",
    "\n",
    "The next step is therefore to aggregate data on a daily basis, computing the mean deviation"
   ]
  },
  {
   "cell_type": "code",
   "execution_count": 10,
   "metadata": {},
   "outputs": [],
   "source": [
    "dev_2017_daily = dev_2017.resample('D').mean()"
   ]
  },
  {
   "cell_type": "markdown",
   "metadata": {},
   "source": [
    "Note that the dataframe obtained contains 365 rows, so it's complete. With the coarser resolution we have also addressed the issue of removed data (either for being `NaN` or for being outliers)."
   ]
  },
  {
   "cell_type": "code",
   "execution_count": 11,
   "metadata": {},
   "outputs": [
    {
     "data": {
      "text/html": [
       "<div>\n",
       "<style scoped>\n",
       "    .dataframe tbody tr th:only-of-type {\n",
       "        vertical-align: middle;\n",
       "    }\n",
       "\n",
       "    .dataframe tbody tr th {\n",
       "        vertical-align: top;\n",
       "    }\n",
       "\n",
       "    .dataframe thead th {\n",
       "        text-align: right;\n",
       "    }\n",
       "</style>\n",
       "<table border=\"1\" class=\"dataframe\">\n",
       "  <thead>\n",
       "    <tr style=\"text-align: right;\">\n",
       "      <th></th>\n",
       "      <th>quantity</th>\n",
       "    </tr>\n",
       "    <tr>\n",
       "      <th>timestamp</th>\n",
       "      <th></th>\n",
       "    </tr>\n",
       "  </thead>\n",
       "  <tbody>\n",
       "    <tr>\n",
       "      <th>2017-01-01</th>\n",
       "      <td>-25.520833</td>\n",
       "    </tr>\n",
       "    <tr>\n",
       "      <th>2017-01-02</th>\n",
       "      <td>98.132812</td>\n",
       "    </tr>\n",
       "    <tr>\n",
       "      <th>2017-01-03</th>\n",
       "      <td>-36.273438</td>\n",
       "    </tr>\n",
       "    <tr>\n",
       "      <th>2017-01-04</th>\n",
       "      <td>34.421875</td>\n",
       "    </tr>\n",
       "    <tr>\n",
       "      <th>2017-01-05</th>\n",
       "      <td>25.817708</td>\n",
       "    </tr>\n",
       "    <tr>\n",
       "      <th>...</th>\n",
       "      <td>...</td>\n",
       "    </tr>\n",
       "    <tr>\n",
       "      <th>2017-12-27</th>\n",
       "      <td>-80.122396</td>\n",
       "    </tr>\n",
       "    <tr>\n",
       "      <th>2017-12-28</th>\n",
       "      <td>-33.854167</td>\n",
       "    </tr>\n",
       "    <tr>\n",
       "      <th>2017-12-29</th>\n",
       "      <td>5.757812</td>\n",
       "    </tr>\n",
       "    <tr>\n",
       "      <th>2017-12-30</th>\n",
       "      <td>-35.747396</td>\n",
       "    </tr>\n",
       "    <tr>\n",
       "      <th>2017-12-31</th>\n",
       "      <td>8.614360</td>\n",
       "    </tr>\n",
       "  </tbody>\n",
       "</table>\n",
       "<p>365 rows × 1 columns</p>\n",
       "</div>"
      ],
      "text/plain": [
       "             quantity\n",
       "timestamp            \n",
       "2017-01-01 -25.520833\n",
       "2017-01-02  98.132812\n",
       "2017-01-03 -36.273438\n",
       "2017-01-04  34.421875\n",
       "2017-01-05  25.817708\n",
       "...               ...\n",
       "2017-12-27 -80.122396\n",
       "2017-12-28 -33.854167\n",
       "2017-12-29   5.757812\n",
       "2017-12-30 -35.747396\n",
       "2017-12-31   8.614360\n",
       "\n",
       "[365 rows x 1 columns]"
      ]
     },
     "execution_count": 11,
     "metadata": {},
     "output_type": "execute_result"
    }
   ],
   "source": [
    "dev_2017_daily"
   ]
  },
  {
   "cell_type": "markdown",
   "metadata": {},
   "source": [
    "## Temperature data"
   ]
  },
  {
   "cell_type": "markdown",
   "metadata": {},
   "source": [
    "For temperature records, we have at our disposal measurements from weather stations at airports in France. There are several stations scattered across France. \n",
    "\n",
    "Rather than restricting to one station, which only reflects temperature in one geographical site that may at best correlate with the local energy consumption, we will consider measurements from six stations which are geographically scattered (as determined 'by eye') and lie close to some of the most populated cities in France. \n",
    "\n",
    "The larger sample ensures that:\n",
    "1. A temperature record be obtained that better reflects the geographic variability of temperature, which can be large.\n",
    "2. The temperature measurements be associated with heavy energy consuming cities, which have a larger weight on the available mean energy consumption deviation in France\n",
    "\n",
    "The weather stations chosen are:\n",
    "\n",
    "- LFBO Toulousse\n",
    "- LFLY Lyon\n",
    "- LFML Marseille\n",
    "- LFPB Paris\n",
    "- LFRS Nantes\n",
    "- LFQQ Lille\n",
    "\n",
    "I will load data starting from year 2006, as more recent data tends to be more complete, and decide below which starting year encompasses more complete data while providing a solid historical record."
   ]
  },
  {
   "cell_type": "code",
   "execution_count": 12,
   "metadata": {},
   "outputs": [],
   "source": [
    "# Using index_col=['timestamp', 'station'] I adopt a hierarchical index,\n",
    "# which makes it easier to categorize measurements by station\n",
    "\n",
    "temperature_all_pre = pd.read_csv('asos_six_cities.txt', \n",
    "                                  sep=',', header=0, \n",
    "                                  names=['station', 'timestamp', 'temperature'], \n",
    "                                  parse_dates=['timestamp'], \n",
    "                                  index_col=['timestamp', 'station'])"
   ]
  },
  {
   "cell_type": "code",
   "execution_count": 13,
   "metadata": {},
   "outputs": [
    {
     "data": {
      "text/html": [
       "<div>\n",
       "<style scoped>\n",
       "    .dataframe tbody tr th:only-of-type {\n",
       "        vertical-align: middle;\n",
       "    }\n",
       "\n",
       "    .dataframe tbody tr th {\n",
       "        vertical-align: top;\n",
       "    }\n",
       "\n",
       "    .dataframe thead th {\n",
       "        text-align: right;\n",
       "    }\n",
       "</style>\n",
       "<table border=\"1\" class=\"dataframe\">\n",
       "  <thead>\n",
       "    <tr style=\"text-align: right;\">\n",
       "      <th></th>\n",
       "      <th></th>\n",
       "      <th>temperature</th>\n",
       "    </tr>\n",
       "    <tr>\n",
       "      <th>timestamp</th>\n",
       "      <th>station</th>\n",
       "      <th></th>\n",
       "    </tr>\n",
       "  </thead>\n",
       "  <tbody>\n",
       "    <tr>\n",
       "      <th rowspan=\"4\" valign=\"top\">2006-01-01 00:00:00</th>\n",
       "      <th>LFML</th>\n",
       "      <td>7.0</td>\n",
       "    </tr>\n",
       "    <tr>\n",
       "      <th>LFRS</th>\n",
       "      <td>3.0</td>\n",
       "    </tr>\n",
       "    <tr>\n",
       "      <th>LFBO</th>\n",
       "      <td>6.0</td>\n",
       "    </tr>\n",
       "    <tr>\n",
       "      <th>LFQQ</th>\n",
       "      <td>2.0</td>\n",
       "    </tr>\n",
       "    <tr>\n",
       "      <th rowspan=\"3\" valign=\"top\">2006-01-01 00:30:00</th>\n",
       "      <th>LFBO</th>\n",
       "      <td>6.0</td>\n",
       "    </tr>\n",
       "    <tr>\n",
       "      <th>LFML</th>\n",
       "      <td>8.0</td>\n",
       "    </tr>\n",
       "    <tr>\n",
       "      <th>LFRS</th>\n",
       "      <td>3.0</td>\n",
       "    </tr>\n",
       "    <tr>\n",
       "      <th rowspan=\"3\" valign=\"top\">2006-01-01 01:00:00</th>\n",
       "      <th>LFBO</th>\n",
       "      <td>6.0</td>\n",
       "    </tr>\n",
       "    <tr>\n",
       "      <th>LFML</th>\n",
       "      <td>8.0</td>\n",
       "    </tr>\n",
       "    <tr>\n",
       "      <th>LFRS</th>\n",
       "      <td>3.0</td>\n",
       "    </tr>\n",
       "    <tr>\n",
       "      <th rowspan=\"3\" valign=\"top\">2006-01-01 01:30:00</th>\n",
       "      <th>LFRS</th>\n",
       "      <td>6.0</td>\n",
       "    </tr>\n",
       "    <tr>\n",
       "      <th>LFBO</th>\n",
       "      <td>6.0</td>\n",
       "    </tr>\n",
       "    <tr>\n",
       "      <th>LFML</th>\n",
       "      <td>8.0</td>\n",
       "    </tr>\n",
       "    <tr>\n",
       "      <th rowspan=\"3\" valign=\"top\">2006-01-01 02:00:00</th>\n",
       "      <th>LFBO</th>\n",
       "      <td>6.0</td>\n",
       "    </tr>\n",
       "    <tr>\n",
       "      <th>LFRS</th>\n",
       "      <td>6.0</td>\n",
       "    </tr>\n",
       "    <tr>\n",
       "      <th>LFML</th>\n",
       "      <td>8.0</td>\n",
       "    </tr>\n",
       "    <tr>\n",
       "      <th rowspan=\"3\" valign=\"top\">2006-01-01 02:30:00</th>\n",
       "      <th>LFML</th>\n",
       "      <td>8.0</td>\n",
       "    </tr>\n",
       "    <tr>\n",
       "      <th>LFBO</th>\n",
       "      <td>6.0</td>\n",
       "    </tr>\n",
       "    <tr>\n",
       "      <th>LFRS</th>\n",
       "      <td>6.0</td>\n",
       "    </tr>\n",
       "    <tr>\n",
       "      <th>2006-01-01 03:00:00</th>\n",
       "      <th>LFML</th>\n",
       "      <td>8.0</td>\n",
       "    </tr>\n",
       "  </tbody>\n",
       "</table>\n",
       "</div>"
      ],
      "text/plain": [
       "                             temperature\n",
       "timestamp           station             \n",
       "2006-01-01 00:00:00 LFML             7.0\n",
       "                    LFRS             3.0\n",
       "                    LFBO             6.0\n",
       "                    LFQQ             2.0\n",
       "2006-01-01 00:30:00 LFBO             6.0\n",
       "                    LFML             8.0\n",
       "                    LFRS             3.0\n",
       "2006-01-01 01:00:00 LFBO             6.0\n",
       "                    LFML             8.0\n",
       "                    LFRS             3.0\n",
       "2006-01-01 01:30:00 LFRS             6.0\n",
       "                    LFBO             6.0\n",
       "                    LFML             8.0\n",
       "2006-01-01 02:00:00 LFBO             6.0\n",
       "                    LFRS             6.0\n",
       "                    LFML             8.0\n",
       "2006-01-01 02:30:00 LFML             8.0\n",
       "                    LFBO             6.0\n",
       "                    LFRS             6.0\n",
       "2006-01-01 03:00:00 LFML             8.0"
      ]
     },
     "execution_count": 13,
     "metadata": {},
     "output_type": "execute_result"
    }
   ],
   "source": [
    "temperature_all_pre.head(20)"
   ]
  },
  {
   "cell_type": "markdown",
   "metadata": {},
   "source": [
    "### Parsing data\n",
    "At the moment we can't unstack the second level of the hierarchical index to have temperature measurements corresponding to one period in a single row. The reason is that the dataframe contains repeated indices (somehow pandas doesn't check for repetition when assigning an index while reading)."
   ]
  },
  {
   "cell_type": "code",
   "execution_count": 14,
   "metadata": {},
   "outputs": [
    {
     "data": {
      "text/html": [
       "<div>\n",
       "<style scoped>\n",
       "    .dataframe tbody tr th:only-of-type {\n",
       "        vertical-align: middle;\n",
       "    }\n",
       "\n",
       "    .dataframe tbody tr th {\n",
       "        vertical-align: top;\n",
       "    }\n",
       "\n",
       "    .dataframe thead th {\n",
       "        text-align: right;\n",
       "    }\n",
       "</style>\n",
       "<table border=\"1\" class=\"dataframe\">\n",
       "  <thead>\n",
       "    <tr style=\"text-align: right;\">\n",
       "      <th></th>\n",
       "      <th></th>\n",
       "      <th>temperature</th>\n",
       "    </tr>\n",
       "    <tr>\n",
       "      <th>timestamp</th>\n",
       "      <th>station</th>\n",
       "      <th></th>\n",
       "    </tr>\n",
       "  </thead>\n",
       "  <tbody>\n",
       "    <tr>\n",
       "      <th rowspan=\"10\" valign=\"top\">2006-03-26 22:00:00</th>\n",
       "      <th>LFPB</th>\n",
       "      <td>17.0</td>\n",
       "    </tr>\n",
       "    <tr>\n",
       "      <th>LFML</th>\n",
       "      <td>16.0</td>\n",
       "    </tr>\n",
       "    <tr>\n",
       "      <th>LFML</th>\n",
       "      <td>16.0</td>\n",
       "    </tr>\n",
       "    <tr>\n",
       "      <th>LFRS</th>\n",
       "      <td>13.0</td>\n",
       "    </tr>\n",
       "    <tr>\n",
       "      <th>LFQQ</th>\n",
       "      <td>14.0</td>\n",
       "    </tr>\n",
       "    <tr>\n",
       "      <th>LFQQ</th>\n",
       "      <td>14.0</td>\n",
       "    </tr>\n",
       "    <tr>\n",
       "      <th>LFBO</th>\n",
       "      <td>13.0</td>\n",
       "    </tr>\n",
       "    <tr>\n",
       "      <th>LFBO</th>\n",
       "      <td>13.0</td>\n",
       "    </tr>\n",
       "    <tr>\n",
       "      <th>LFRS</th>\n",
       "      <td>13.0</td>\n",
       "    </tr>\n",
       "    <tr>\n",
       "      <th>LFPB</th>\n",
       "      <td>17.0</td>\n",
       "    </tr>\n",
       "    <tr>\n",
       "      <th rowspan=\"6\" valign=\"top\">2006-03-26 22:30:00</th>\n",
       "      <th>LFBO</th>\n",
       "      <td>13.0</td>\n",
       "    </tr>\n",
       "    <tr>\n",
       "      <th>LFBO</th>\n",
       "      <td>13.0</td>\n",
       "    </tr>\n",
       "    <tr>\n",
       "      <th>LFPB</th>\n",
       "      <td>17.0</td>\n",
       "    </tr>\n",
       "    <tr>\n",
       "      <th>LFPB</th>\n",
       "      <td>17.0</td>\n",
       "    </tr>\n",
       "    <tr>\n",
       "      <th>LFML</th>\n",
       "      <td>16.0</td>\n",
       "    </tr>\n",
       "    <tr>\n",
       "      <th>LFML</th>\n",
       "      <td>16.0</td>\n",
       "    </tr>\n",
       "    <tr>\n",
       "      <th rowspan=\"4\" valign=\"top\">2006-05-30 22:00:00</th>\n",
       "      <th>LFML</th>\n",
       "      <td>14.0</td>\n",
       "    </tr>\n",
       "    <tr>\n",
       "      <th>LFQQ</th>\n",
       "      <td>6.0</td>\n",
       "    </tr>\n",
       "    <tr>\n",
       "      <th>LFML</th>\n",
       "      <td>14.0</td>\n",
       "    </tr>\n",
       "    <tr>\n",
       "      <th>LFQQ</th>\n",
       "      <td>6.0</td>\n",
       "    </tr>\n",
       "    <tr>\n",
       "      <th rowspan=\"2\" valign=\"top\">2006-05-30 22:30:00</th>\n",
       "      <th>LFML</th>\n",
       "      <td>14.0</td>\n",
       "    </tr>\n",
       "    <tr>\n",
       "      <th>LFML</th>\n",
       "      <td>14.0</td>\n",
       "    </tr>\n",
       "    <tr>\n",
       "      <th rowspan=\"2\" valign=\"top\">2006-05-30 23:30:00</th>\n",
       "      <th>LFML</th>\n",
       "      <td>13.0</td>\n",
       "    </tr>\n",
       "    <tr>\n",
       "      <th>LFML</th>\n",
       "      <td>13.0</td>\n",
       "    </tr>\n",
       "    <tr>\n",
       "      <th rowspan=\"2\" valign=\"top\">2006-07-30 23:00:00</th>\n",
       "      <th>LFML</th>\n",
       "      <td>26.0</td>\n",
       "    </tr>\n",
       "    <tr>\n",
       "      <th>LFML</th>\n",
       "      <td>26.0</td>\n",
       "    </tr>\n",
       "    <tr>\n",
       "      <th rowspan=\"2\" valign=\"top\">2006-07-30 23:30:00</th>\n",
       "      <th>LFML</th>\n",
       "      <td>26.0</td>\n",
       "    </tr>\n",
       "    <tr>\n",
       "      <th>LFML</th>\n",
       "      <td>26.0</td>\n",
       "    </tr>\n",
       "    <tr>\n",
       "      <th rowspan=\"2\" valign=\"top\">2006-12-30 23:30:00</th>\n",
       "      <th>LFBO</th>\n",
       "      <td>7.0</td>\n",
       "    </tr>\n",
       "    <tr>\n",
       "      <th>LFBO</th>\n",
       "      <td>7.0</td>\n",
       "    </tr>\n",
       "    <tr>\n",
       "      <th rowspan=\"10\" valign=\"top\">2007-03-25 22:00:00</th>\n",
       "      <th>LFML</th>\n",
       "      <td>6.0</td>\n",
       "    </tr>\n",
       "    <tr>\n",
       "      <th>LFRS</th>\n",
       "      <td>6.0</td>\n",
       "    </tr>\n",
       "    <tr>\n",
       "      <th>LFRS</th>\n",
       "      <td>6.0</td>\n",
       "    </tr>\n",
       "    <tr>\n",
       "      <th>LFLY</th>\n",
       "      <td>3.0</td>\n",
       "    </tr>\n",
       "    <tr>\n",
       "      <th>LFLY</th>\n",
       "      <td>3.0</td>\n",
       "    </tr>\n",
       "    <tr>\n",
       "      <th>LFPB</th>\n",
       "      <td>5.0</td>\n",
       "    </tr>\n",
       "    <tr>\n",
       "      <th>LFPB</th>\n",
       "      <td>5.0</td>\n",
       "    </tr>\n",
       "    <tr>\n",
       "      <th>LFBO</th>\n",
       "      <td>6.0</td>\n",
       "    </tr>\n",
       "    <tr>\n",
       "      <th>LFBO</th>\n",
       "      <td>6.0</td>\n",
       "    </tr>\n",
       "    <tr>\n",
       "      <th>LFML</th>\n",
       "      <td>6.0</td>\n",
       "    </tr>\n",
       "    <tr>\n",
       "      <th rowspan=\"8\" valign=\"top\">2007-03-25 22:30:00</th>\n",
       "      <th>LFML</th>\n",
       "      <td>6.0</td>\n",
       "    </tr>\n",
       "    <tr>\n",
       "      <th>LFML</th>\n",
       "      <td>6.0</td>\n",
       "    </tr>\n",
       "    <tr>\n",
       "      <th>LFLY</th>\n",
       "      <td>3.0</td>\n",
       "    </tr>\n",
       "    <tr>\n",
       "      <th>LFBO</th>\n",
       "      <td>5.0</td>\n",
       "    </tr>\n",
       "    <tr>\n",
       "      <th>LFPB</th>\n",
       "      <td>4.0</td>\n",
       "    </tr>\n",
       "    <tr>\n",
       "      <th>LFBO</th>\n",
       "      <td>5.0</td>\n",
       "    </tr>\n",
       "    <tr>\n",
       "      <th>LFPB</th>\n",
       "      <td>4.0</td>\n",
       "    </tr>\n",
       "    <tr>\n",
       "      <th>LFLY</th>\n",
       "      <td>3.0</td>\n",
       "    </tr>\n",
       "    <tr>\n",
       "      <th rowspan=\"2\" valign=\"top\">2007-05-30 22:30:00</th>\n",
       "      <th>LFPB</th>\n",
       "      <td>14.0</td>\n",
       "    </tr>\n",
       "    <tr>\n",
       "      <th>LFLY</th>\n",
       "      <td>14.0</td>\n",
       "    </tr>\n",
       "  </tbody>\n",
       "</table>\n",
       "</div>"
      ],
      "text/plain": [
       "                             temperature\n",
       "timestamp           station             \n",
       "2006-03-26 22:00:00 LFPB            17.0\n",
       "                    LFML            16.0\n",
       "                    LFML            16.0\n",
       "                    LFRS            13.0\n",
       "                    LFQQ            14.0\n",
       "                    LFQQ            14.0\n",
       "                    LFBO            13.0\n",
       "                    LFBO            13.0\n",
       "                    LFRS            13.0\n",
       "                    LFPB            17.0\n",
       "2006-03-26 22:30:00 LFBO            13.0\n",
       "                    LFBO            13.0\n",
       "                    LFPB            17.0\n",
       "                    LFPB            17.0\n",
       "                    LFML            16.0\n",
       "                    LFML            16.0\n",
       "2006-05-30 22:00:00 LFML            14.0\n",
       "                    LFQQ             6.0\n",
       "                    LFML            14.0\n",
       "                    LFQQ             6.0\n",
       "2006-05-30 22:30:00 LFML            14.0\n",
       "                    LFML            14.0\n",
       "2006-05-30 23:30:00 LFML            13.0\n",
       "                    LFML            13.0\n",
       "2006-07-30 23:00:00 LFML            26.0\n",
       "                    LFML            26.0\n",
       "2006-07-30 23:30:00 LFML            26.0\n",
       "                    LFML            26.0\n",
       "2006-12-30 23:30:00 LFBO             7.0\n",
       "                    LFBO             7.0\n",
       "2007-03-25 22:00:00 LFML             6.0\n",
       "                    LFRS             6.0\n",
       "                    LFRS             6.0\n",
       "                    LFLY             3.0\n",
       "                    LFLY             3.0\n",
       "                    LFPB             5.0\n",
       "                    LFPB             5.0\n",
       "                    LFBO             6.0\n",
       "                    LFBO             6.0\n",
       "                    LFML             6.0\n",
       "2007-03-25 22:30:00 LFML             6.0\n",
       "                    LFML             6.0\n",
       "                    LFLY             3.0\n",
       "                    LFBO             5.0\n",
       "                    LFPB             4.0\n",
       "                    LFBO             5.0\n",
       "                    LFPB             4.0\n",
       "                    LFLY             3.0\n",
       "2007-05-30 22:30:00 LFPB            14.0\n",
       "                    LFLY            14.0"
      ]
     },
     "execution_count": 14,
     "metadata": {},
     "output_type": "execute_result"
    }
   ],
   "source": [
    "temperature_all_pre[temperature_all_pre.index.duplicated(keep=False)].head(50)"
   ]
  },
  {
   "cell_type": "markdown",
   "metadata": {},
   "source": [
    "Let's remove duplicate index entries"
   ]
  },
  {
   "cell_type": "code",
   "execution_count": 15,
   "metadata": {},
   "outputs": [],
   "source": [
    "temperature_all_unique = temperature_all_pre[~temperature_all_pre.index.duplicated(keep='first')]"
   ]
  },
  {
   "cell_type": "markdown",
   "metadata": {},
   "source": [
    "Now we try to assess what is a good starting year for our historical records."
   ]
  },
  {
   "cell_type": "code",
   "execution_count": 16,
   "metadata": {},
   "outputs": [],
   "source": [
    "temperature_all_stations_pre = temperature_all_unique.unstack()"
   ]
  },
  {
   "cell_type": "code",
   "execution_count": 17,
   "metadata": {},
   "outputs": [
    {
     "data": {
      "text/html": [
       "<div>\n",
       "<style scoped>\n",
       "    .dataframe tbody tr th:only-of-type {\n",
       "        vertical-align: middle;\n",
       "    }\n",
       "\n",
       "    .dataframe tbody tr th {\n",
       "        vertical-align: top;\n",
       "    }\n",
       "\n",
       "    .dataframe thead tr th {\n",
       "        text-align: left;\n",
       "    }\n",
       "\n",
       "    .dataframe thead tr:last-of-type th {\n",
       "        text-align: right;\n",
       "    }\n",
       "</style>\n",
       "<table border=\"1\" class=\"dataframe\">\n",
       "  <thead>\n",
       "    <tr>\n",
       "      <th></th>\n",
       "      <th colspan=\"6\" halign=\"left\">temperature</th>\n",
       "    </tr>\n",
       "    <tr>\n",
       "      <th>station</th>\n",
       "      <th>LFBO</th>\n",
       "      <th>LFLY</th>\n",
       "      <th>LFML</th>\n",
       "      <th>LFPB</th>\n",
       "      <th>LFQQ</th>\n",
       "      <th>LFRS</th>\n",
       "    </tr>\n",
       "    <tr>\n",
       "      <th>timestamp</th>\n",
       "      <th></th>\n",
       "      <th></th>\n",
       "      <th></th>\n",
       "      <th></th>\n",
       "      <th></th>\n",
       "      <th></th>\n",
       "    </tr>\n",
       "  </thead>\n",
       "  <tbody>\n",
       "    <tr>\n",
       "      <th>2006-01-01 00:00:00</th>\n",
       "      <td>6.0</td>\n",
       "      <td>NaN</td>\n",
       "      <td>7.0</td>\n",
       "      <td>NaN</td>\n",
       "      <td>2.0</td>\n",
       "      <td>3.0</td>\n",
       "    </tr>\n",
       "    <tr>\n",
       "      <th>2006-01-01 00:30:00</th>\n",
       "      <td>6.0</td>\n",
       "      <td>NaN</td>\n",
       "      <td>8.0</td>\n",
       "      <td>NaN</td>\n",
       "      <td>NaN</td>\n",
       "      <td>3.0</td>\n",
       "    </tr>\n",
       "    <tr>\n",
       "      <th>2006-01-01 01:00:00</th>\n",
       "      <td>6.0</td>\n",
       "      <td>NaN</td>\n",
       "      <td>8.0</td>\n",
       "      <td>NaN</td>\n",
       "      <td>NaN</td>\n",
       "      <td>3.0</td>\n",
       "    </tr>\n",
       "    <tr>\n",
       "      <th>2006-01-01 01:30:00</th>\n",
       "      <td>6.0</td>\n",
       "      <td>NaN</td>\n",
       "      <td>8.0</td>\n",
       "      <td>NaN</td>\n",
       "      <td>NaN</td>\n",
       "      <td>6.0</td>\n",
       "    </tr>\n",
       "    <tr>\n",
       "      <th>2006-01-01 02:00:00</th>\n",
       "      <td>6.0</td>\n",
       "      <td>NaN</td>\n",
       "      <td>8.0</td>\n",
       "      <td>NaN</td>\n",
       "      <td>NaN</td>\n",
       "      <td>6.0</td>\n",
       "    </tr>\n",
       "    <tr>\n",
       "      <th>2006-01-01 02:30:00</th>\n",
       "      <td>6.0</td>\n",
       "      <td>NaN</td>\n",
       "      <td>8.0</td>\n",
       "      <td>NaN</td>\n",
       "      <td>NaN</td>\n",
       "      <td>6.0</td>\n",
       "    </tr>\n",
       "    <tr>\n",
       "      <th>2006-01-01 03:00:00</th>\n",
       "      <td>NaN</td>\n",
       "      <td>NaN</td>\n",
       "      <td>8.0</td>\n",
       "      <td>NaN</td>\n",
       "      <td>2.0</td>\n",
       "      <td>6.0</td>\n",
       "    </tr>\n",
       "    <tr>\n",
       "      <th>2006-01-01 03:30:00</th>\n",
       "      <td>6.0</td>\n",
       "      <td>NaN</td>\n",
       "      <td>8.0</td>\n",
       "      <td>NaN</td>\n",
       "      <td>NaN</td>\n",
       "      <td>NaN</td>\n",
       "    </tr>\n",
       "    <tr>\n",
       "      <th>2006-01-01 03:54:00</th>\n",
       "      <td>6.0</td>\n",
       "      <td>NaN</td>\n",
       "      <td>NaN</td>\n",
       "      <td>NaN</td>\n",
       "      <td>NaN</td>\n",
       "      <td>NaN</td>\n",
       "    </tr>\n",
       "    <tr>\n",
       "      <th>2006-01-01 04:00:00</th>\n",
       "      <td>NaN</td>\n",
       "      <td>NaN</td>\n",
       "      <td>8.0</td>\n",
       "      <td>NaN</td>\n",
       "      <td>2.0</td>\n",
       "      <td>8.0</td>\n",
       "    </tr>\n",
       "    <tr>\n",
       "      <th>2006-01-01 04:30:00</th>\n",
       "      <td>6.0</td>\n",
       "      <td>NaN</td>\n",
       "      <td>7.0</td>\n",
       "      <td>NaN</td>\n",
       "      <td>2.0</td>\n",
       "      <td>NaN</td>\n",
       "    </tr>\n",
       "    <tr>\n",
       "      <th>2006-01-01 05:00:00</th>\n",
       "      <td>6.0</td>\n",
       "      <td>3.0</td>\n",
       "      <td>6.0</td>\n",
       "      <td>NaN</td>\n",
       "      <td>2.0</td>\n",
       "      <td>8.0</td>\n",
       "    </tr>\n",
       "    <tr>\n",
       "      <th>2006-01-01 05:30:00</th>\n",
       "      <td>6.0</td>\n",
       "      <td>NaN</td>\n",
       "      <td>6.0</td>\n",
       "      <td>4.0</td>\n",
       "      <td>2.0</td>\n",
       "      <td>NaN</td>\n",
       "    </tr>\n",
       "    <tr>\n",
       "      <th>2006-01-01 06:00:00</th>\n",
       "      <td>6.0</td>\n",
       "      <td>2.0</td>\n",
       "      <td>5.0</td>\n",
       "      <td>4.0</td>\n",
       "      <td>3.0</td>\n",
       "      <td>9.0</td>\n",
       "    </tr>\n",
       "    <tr>\n",
       "      <th>2006-01-01 06:30:00</th>\n",
       "      <td>5.0</td>\n",
       "      <td>NaN</td>\n",
       "      <td>5.0</td>\n",
       "      <td>4.0</td>\n",
       "      <td>3.0</td>\n",
       "      <td>NaN</td>\n",
       "    </tr>\n",
       "    <tr>\n",
       "      <th>2006-01-01 07:00:00</th>\n",
       "      <td>5.0</td>\n",
       "      <td>2.0</td>\n",
       "      <td>NaN</td>\n",
       "      <td>5.0</td>\n",
       "      <td>3.0</td>\n",
       "      <td>9.0</td>\n",
       "    </tr>\n",
       "    <tr>\n",
       "      <th>2006-01-01 07:04:00</th>\n",
       "      <td>NaN</td>\n",
       "      <td>NaN</td>\n",
       "      <td>5.0</td>\n",
       "      <td>NaN</td>\n",
       "      <td>NaN</td>\n",
       "      <td>NaN</td>\n",
       "    </tr>\n",
       "    <tr>\n",
       "      <th>2006-01-01 07:30:00</th>\n",
       "      <td>5.0</td>\n",
       "      <td>NaN</td>\n",
       "      <td>4.0</td>\n",
       "      <td>5.0</td>\n",
       "      <td>3.0</td>\n",
       "      <td>NaN</td>\n",
       "    </tr>\n",
       "    <tr>\n",
       "      <th>2006-01-01 08:00:00</th>\n",
       "      <td>5.0</td>\n",
       "      <td>2.0</td>\n",
       "      <td>4.0</td>\n",
       "      <td>5.0</td>\n",
       "      <td>3.0</td>\n",
       "      <td>9.0</td>\n",
       "    </tr>\n",
       "    <tr>\n",
       "      <th>2006-01-01 08:30:00</th>\n",
       "      <td>6.0</td>\n",
       "      <td>NaN</td>\n",
       "      <td>4.0</td>\n",
       "      <td>6.0</td>\n",
       "      <td>3.0</td>\n",
       "      <td>NaN</td>\n",
       "    </tr>\n",
       "    <tr>\n",
       "      <th>2006-01-01 08:54:00</th>\n",
       "      <td>NaN</td>\n",
       "      <td>2.0</td>\n",
       "      <td>NaN</td>\n",
       "      <td>NaN</td>\n",
       "      <td>NaN</td>\n",
       "      <td>NaN</td>\n",
       "    </tr>\n",
       "    <tr>\n",
       "      <th>2006-01-01 09:00:00</th>\n",
       "      <td>6.0</td>\n",
       "      <td>NaN</td>\n",
       "      <td>4.0</td>\n",
       "      <td>6.0</td>\n",
       "      <td>3.0</td>\n",
       "      <td>9.0</td>\n",
       "    </tr>\n",
       "    <tr>\n",
       "      <th>2006-01-01 09:30:00</th>\n",
       "      <td>7.0</td>\n",
       "      <td>NaN</td>\n",
       "      <td>5.0</td>\n",
       "      <td>6.0</td>\n",
       "      <td>3.0</td>\n",
       "      <td>NaN</td>\n",
       "    </tr>\n",
       "    <tr>\n",
       "      <th>2006-01-01 10:00:00</th>\n",
       "      <td>8.0</td>\n",
       "      <td>4.0</td>\n",
       "      <td>6.0</td>\n",
       "      <td>6.0</td>\n",
       "      <td>3.0</td>\n",
       "      <td>9.0</td>\n",
       "    </tr>\n",
       "    <tr>\n",
       "      <th>2006-01-01 10:30:00</th>\n",
       "      <td>7.0</td>\n",
       "      <td>NaN</td>\n",
       "      <td>6.0</td>\n",
       "      <td>7.0</td>\n",
       "      <td>3.0</td>\n",
       "      <td>NaN</td>\n",
       "    </tr>\n",
       "    <tr>\n",
       "      <th>2006-01-01 11:00:00</th>\n",
       "      <td>8.0</td>\n",
       "      <td>7.0</td>\n",
       "      <td>8.0</td>\n",
       "      <td>7.0</td>\n",
       "      <td>3.0</td>\n",
       "      <td>10.0</td>\n",
       "    </tr>\n",
       "    <tr>\n",
       "      <th>2006-01-01 11:30:00</th>\n",
       "      <td>9.0</td>\n",
       "      <td>NaN</td>\n",
       "      <td>8.0</td>\n",
       "      <td>NaN</td>\n",
       "      <td>3.0</td>\n",
       "      <td>NaN</td>\n",
       "    </tr>\n",
       "    <tr>\n",
       "      <th>2006-01-01 12:00:00</th>\n",
       "      <td>NaN</td>\n",
       "      <td>7.0</td>\n",
       "      <td>9.0</td>\n",
       "      <td>8.0</td>\n",
       "      <td>3.0</td>\n",
       "      <td>10.0</td>\n",
       "    </tr>\n",
       "    <tr>\n",
       "      <th>2006-01-01 12:05:00</th>\n",
       "      <td>9.0</td>\n",
       "      <td>NaN</td>\n",
       "      <td>NaN</td>\n",
       "      <td>NaN</td>\n",
       "      <td>NaN</td>\n",
       "      <td>NaN</td>\n",
       "    </tr>\n",
       "    <tr>\n",
       "      <th>2006-01-01 12:30:00</th>\n",
       "      <td>9.0</td>\n",
       "      <td>NaN</td>\n",
       "      <td>10.0</td>\n",
       "      <td>8.0</td>\n",
       "      <td>3.0</td>\n",
       "      <td>NaN</td>\n",
       "    </tr>\n",
       "    <tr>\n",
       "      <th>2006-01-01 13:00:00</th>\n",
       "      <td>9.0</td>\n",
       "      <td>6.0</td>\n",
       "      <td>10.0</td>\n",
       "      <td>8.0</td>\n",
       "      <td>3.0</td>\n",
       "      <td>NaN</td>\n",
       "    </tr>\n",
       "    <tr>\n",
       "      <th>2006-01-01 13:11:00</th>\n",
       "      <td>NaN</td>\n",
       "      <td>NaN</td>\n",
       "      <td>NaN</td>\n",
       "      <td>NaN</td>\n",
       "      <td>NaN</td>\n",
       "      <td>10.0</td>\n",
       "    </tr>\n",
       "    <tr>\n",
       "      <th>2006-01-01 13:30:00</th>\n",
       "      <td>8.0</td>\n",
       "      <td>NaN</td>\n",
       "      <td>11.0</td>\n",
       "      <td>8.0</td>\n",
       "      <td>3.0</td>\n",
       "      <td>NaN</td>\n",
       "    </tr>\n",
       "    <tr>\n",
       "      <th>2006-01-01 14:00:00</th>\n",
       "      <td>9.0</td>\n",
       "      <td>5.0</td>\n",
       "      <td>10.0</td>\n",
       "      <td>8.0</td>\n",
       "      <td>3.0</td>\n",
       "      <td>10.0</td>\n",
       "    </tr>\n",
       "    <tr>\n",
       "      <th>2006-01-01 14:10:00</th>\n",
       "      <td>NaN</td>\n",
       "      <td>5.0</td>\n",
       "      <td>NaN</td>\n",
       "      <td>NaN</td>\n",
       "      <td>NaN</td>\n",
       "      <td>NaN</td>\n",
       "    </tr>\n",
       "    <tr>\n",
       "      <th>2006-01-01 14:30:00</th>\n",
       "      <td>9.0</td>\n",
       "      <td>NaN</td>\n",
       "      <td>10.0</td>\n",
       "      <td>8.0</td>\n",
       "      <td>3.0</td>\n",
       "      <td>NaN</td>\n",
       "    </tr>\n",
       "    <tr>\n",
       "      <th>2006-01-01 15:00:00</th>\n",
       "      <td>8.0</td>\n",
       "      <td>5.0</td>\n",
       "      <td>10.0</td>\n",
       "      <td>8.0</td>\n",
       "      <td>3.0</td>\n",
       "      <td>9.0</td>\n",
       "    </tr>\n",
       "    <tr>\n",
       "      <th>2006-01-01 15:30:00</th>\n",
       "      <td>7.0</td>\n",
       "      <td>NaN</td>\n",
       "      <td>9.0</td>\n",
       "      <td>8.0</td>\n",
       "      <td>4.0</td>\n",
       "      <td>NaN</td>\n",
       "    </tr>\n",
       "    <tr>\n",
       "      <th>2006-01-01 16:00:00</th>\n",
       "      <td>7.0</td>\n",
       "      <td>5.0</td>\n",
       "      <td>8.0</td>\n",
       "      <td>8.0</td>\n",
       "      <td>4.0</td>\n",
       "      <td>9.0</td>\n",
       "    </tr>\n",
       "    <tr>\n",
       "      <th>2006-01-01 16:30:00</th>\n",
       "      <td>7.0</td>\n",
       "      <td>NaN</td>\n",
       "      <td>7.0</td>\n",
       "      <td>7.0</td>\n",
       "      <td>4.0</td>\n",
       "      <td>NaN</td>\n",
       "    </tr>\n",
       "    <tr>\n",
       "      <th>2006-01-01 17:00:00</th>\n",
       "      <td>6.0</td>\n",
       "      <td>NaN</td>\n",
       "      <td>7.0</td>\n",
       "      <td>7.0</td>\n",
       "      <td>4.0</td>\n",
       "      <td>8.0</td>\n",
       "    </tr>\n",
       "    <tr>\n",
       "      <th>2006-01-01 17:30:00</th>\n",
       "      <td>7.0</td>\n",
       "      <td>NaN</td>\n",
       "      <td>6.0</td>\n",
       "      <td>7.0</td>\n",
       "      <td>4.0</td>\n",
       "      <td>NaN</td>\n",
       "    </tr>\n",
       "    <tr>\n",
       "      <th>2006-01-01 18:00:00</th>\n",
       "      <td>6.0</td>\n",
       "      <td>NaN</td>\n",
       "      <td>6.0</td>\n",
       "      <td>NaN</td>\n",
       "      <td>3.0</td>\n",
       "      <td>8.0</td>\n",
       "    </tr>\n",
       "    <tr>\n",
       "      <th>2006-01-01 18:30:00</th>\n",
       "      <td>6.0</td>\n",
       "      <td>NaN</td>\n",
       "      <td>6.0</td>\n",
       "      <td>NaN</td>\n",
       "      <td>4.0</td>\n",
       "      <td>NaN</td>\n",
       "    </tr>\n",
       "    <tr>\n",
       "      <th>2006-01-01 19:00:00</th>\n",
       "      <td>7.0</td>\n",
       "      <td>NaN</td>\n",
       "      <td>6.0</td>\n",
       "      <td>NaN</td>\n",
       "      <td>4.0</td>\n",
       "      <td>8.0</td>\n",
       "    </tr>\n",
       "    <tr>\n",
       "      <th>2006-01-01 19:30:00</th>\n",
       "      <td>7.0</td>\n",
       "      <td>NaN</td>\n",
       "      <td>6.0</td>\n",
       "      <td>NaN</td>\n",
       "      <td>4.0</td>\n",
       "      <td>NaN</td>\n",
       "    </tr>\n",
       "    <tr>\n",
       "      <th>2006-01-01 20:00:00</th>\n",
       "      <td>7.0</td>\n",
       "      <td>NaN</td>\n",
       "      <td>6.0</td>\n",
       "      <td>NaN</td>\n",
       "      <td>4.0</td>\n",
       "      <td>7.0</td>\n",
       "    </tr>\n",
       "    <tr>\n",
       "      <th>2006-01-01 20:30:00</th>\n",
       "      <td>NaN</td>\n",
       "      <td>NaN</td>\n",
       "      <td>6.0</td>\n",
       "      <td>NaN</td>\n",
       "      <td>4.0</td>\n",
       "      <td>NaN</td>\n",
       "    </tr>\n",
       "    <tr>\n",
       "      <th>2006-01-01 20:35:00</th>\n",
       "      <td>7.0</td>\n",
       "      <td>NaN</td>\n",
       "      <td>NaN</td>\n",
       "      <td>NaN</td>\n",
       "      <td>NaN</td>\n",
       "      <td>NaN</td>\n",
       "    </tr>\n",
       "    <tr>\n",
       "      <th>2006-01-01 21:00:00</th>\n",
       "      <td>7.0</td>\n",
       "      <td>NaN</td>\n",
       "      <td>6.0</td>\n",
       "      <td>NaN</td>\n",
       "      <td>4.0</td>\n",
       "      <td>7.0</td>\n",
       "    </tr>\n",
       "    <tr>\n",
       "      <th>2006-01-01 21:30:00</th>\n",
       "      <td>7.0</td>\n",
       "      <td>NaN</td>\n",
       "      <td>6.0</td>\n",
       "      <td>NaN</td>\n",
       "      <td>4.0</td>\n",
       "      <td>NaN</td>\n",
       "    </tr>\n",
       "    <tr>\n",
       "      <th>2006-01-01 22:00:00</th>\n",
       "      <td>7.0</td>\n",
       "      <td>NaN</td>\n",
       "      <td>6.0</td>\n",
       "      <td>NaN</td>\n",
       "      <td>4.0</td>\n",
       "      <td>7.0</td>\n",
       "    </tr>\n",
       "    <tr>\n",
       "      <th>2006-01-01 22:30:00</th>\n",
       "      <td>7.0</td>\n",
       "      <td>NaN</td>\n",
       "      <td>6.0</td>\n",
       "      <td>NaN</td>\n",
       "      <td>NaN</td>\n",
       "      <td>NaN</td>\n",
       "    </tr>\n",
       "    <tr>\n",
       "      <th>2006-01-01 23:00:00</th>\n",
       "      <td>6.0</td>\n",
       "      <td>NaN</td>\n",
       "      <td>6.0</td>\n",
       "      <td>NaN</td>\n",
       "      <td>4.0</td>\n",
       "      <td>7.0</td>\n",
       "    </tr>\n",
       "    <tr>\n",
       "      <th>2006-01-01 23:30:00</th>\n",
       "      <td>6.0</td>\n",
       "      <td>NaN</td>\n",
       "      <td>6.0</td>\n",
       "      <td>NaN</td>\n",
       "      <td>NaN</td>\n",
       "      <td>NaN</td>\n",
       "    </tr>\n",
       "    <tr>\n",
       "      <th>2006-01-02 00:00:00</th>\n",
       "      <td>6.0</td>\n",
       "      <td>NaN</td>\n",
       "      <td>6.0</td>\n",
       "      <td>NaN</td>\n",
       "      <td>4.0</td>\n",
       "      <td>6.0</td>\n",
       "    </tr>\n",
       "    <tr>\n",
       "      <th>2006-01-02 00:30:00</th>\n",
       "      <td>6.0</td>\n",
       "      <td>NaN</td>\n",
       "      <td>5.0</td>\n",
       "      <td>NaN</td>\n",
       "      <td>NaN</td>\n",
       "      <td>6.0</td>\n",
       "    </tr>\n",
       "    <tr>\n",
       "      <th>2006-01-02 01:00:00</th>\n",
       "      <td>7.0</td>\n",
       "      <td>NaN</td>\n",
       "      <td>4.0</td>\n",
       "      <td>NaN</td>\n",
       "      <td>NaN</td>\n",
       "      <td>6.0</td>\n",
       "    </tr>\n",
       "    <tr>\n",
       "      <th>2006-01-02 01:30:00</th>\n",
       "      <td>7.0</td>\n",
       "      <td>NaN</td>\n",
       "      <td>4.0</td>\n",
       "      <td>NaN</td>\n",
       "      <td>NaN</td>\n",
       "      <td>5.0</td>\n",
       "    </tr>\n",
       "    <tr>\n",
       "      <th>2006-01-02 02:00:00</th>\n",
       "      <td>7.0</td>\n",
       "      <td>NaN</td>\n",
       "      <td>4.0</td>\n",
       "      <td>NaN</td>\n",
       "      <td>NaN</td>\n",
       "      <td>5.0</td>\n",
       "    </tr>\n",
       "  </tbody>\n",
       "</table>\n",
       "</div>"
      ],
      "text/plain": [
       "                    temperature                           \n",
       "station                    LFBO LFLY  LFML LFPB LFQQ  LFRS\n",
       "timestamp                                                 \n",
       "2006-01-01 00:00:00         6.0  NaN   7.0  NaN  2.0   3.0\n",
       "2006-01-01 00:30:00         6.0  NaN   8.0  NaN  NaN   3.0\n",
       "2006-01-01 01:00:00         6.0  NaN   8.0  NaN  NaN   3.0\n",
       "2006-01-01 01:30:00         6.0  NaN   8.0  NaN  NaN   6.0\n",
       "2006-01-01 02:00:00         6.0  NaN   8.0  NaN  NaN   6.0\n",
       "2006-01-01 02:30:00         6.0  NaN   8.0  NaN  NaN   6.0\n",
       "2006-01-01 03:00:00         NaN  NaN   8.0  NaN  2.0   6.0\n",
       "2006-01-01 03:30:00         6.0  NaN   8.0  NaN  NaN   NaN\n",
       "2006-01-01 03:54:00         6.0  NaN   NaN  NaN  NaN   NaN\n",
       "2006-01-01 04:00:00         NaN  NaN   8.0  NaN  2.0   8.0\n",
       "2006-01-01 04:30:00         6.0  NaN   7.0  NaN  2.0   NaN\n",
       "2006-01-01 05:00:00         6.0  3.0   6.0  NaN  2.0   8.0\n",
       "2006-01-01 05:30:00         6.0  NaN   6.0  4.0  2.0   NaN\n",
       "2006-01-01 06:00:00         6.0  2.0   5.0  4.0  3.0   9.0\n",
       "2006-01-01 06:30:00         5.0  NaN   5.0  4.0  3.0   NaN\n",
       "2006-01-01 07:00:00         5.0  2.0   NaN  5.0  3.0   9.0\n",
       "2006-01-01 07:04:00         NaN  NaN   5.0  NaN  NaN   NaN\n",
       "2006-01-01 07:30:00         5.0  NaN   4.0  5.0  3.0   NaN\n",
       "2006-01-01 08:00:00         5.0  2.0   4.0  5.0  3.0   9.0\n",
       "2006-01-01 08:30:00         6.0  NaN   4.0  6.0  3.0   NaN\n",
       "2006-01-01 08:54:00         NaN  2.0   NaN  NaN  NaN   NaN\n",
       "2006-01-01 09:00:00         6.0  NaN   4.0  6.0  3.0   9.0\n",
       "2006-01-01 09:30:00         7.0  NaN   5.0  6.0  3.0   NaN\n",
       "2006-01-01 10:00:00         8.0  4.0   6.0  6.0  3.0   9.0\n",
       "2006-01-01 10:30:00         7.0  NaN   6.0  7.0  3.0   NaN\n",
       "2006-01-01 11:00:00         8.0  7.0   8.0  7.0  3.0  10.0\n",
       "2006-01-01 11:30:00         9.0  NaN   8.0  NaN  3.0   NaN\n",
       "2006-01-01 12:00:00         NaN  7.0   9.0  8.0  3.0  10.0\n",
       "2006-01-01 12:05:00         9.0  NaN   NaN  NaN  NaN   NaN\n",
       "2006-01-01 12:30:00         9.0  NaN  10.0  8.0  3.0   NaN\n",
       "2006-01-01 13:00:00         9.0  6.0  10.0  8.0  3.0   NaN\n",
       "2006-01-01 13:11:00         NaN  NaN   NaN  NaN  NaN  10.0\n",
       "2006-01-01 13:30:00         8.0  NaN  11.0  8.0  3.0   NaN\n",
       "2006-01-01 14:00:00         9.0  5.0  10.0  8.0  3.0  10.0\n",
       "2006-01-01 14:10:00         NaN  5.0   NaN  NaN  NaN   NaN\n",
       "2006-01-01 14:30:00         9.0  NaN  10.0  8.0  3.0   NaN\n",
       "2006-01-01 15:00:00         8.0  5.0  10.0  8.0  3.0   9.0\n",
       "2006-01-01 15:30:00         7.0  NaN   9.0  8.0  4.0   NaN\n",
       "2006-01-01 16:00:00         7.0  5.0   8.0  8.0  4.0   9.0\n",
       "2006-01-01 16:30:00         7.0  NaN   7.0  7.0  4.0   NaN\n",
       "2006-01-01 17:00:00         6.0  NaN   7.0  7.0  4.0   8.0\n",
       "2006-01-01 17:30:00         7.0  NaN   6.0  7.0  4.0   NaN\n",
       "2006-01-01 18:00:00         6.0  NaN   6.0  NaN  3.0   8.0\n",
       "2006-01-01 18:30:00         6.0  NaN   6.0  NaN  4.0   NaN\n",
       "2006-01-01 19:00:00         7.0  NaN   6.0  NaN  4.0   8.0\n",
       "2006-01-01 19:30:00         7.0  NaN   6.0  NaN  4.0   NaN\n",
       "2006-01-01 20:00:00         7.0  NaN   6.0  NaN  4.0   7.0\n",
       "2006-01-01 20:30:00         NaN  NaN   6.0  NaN  4.0   NaN\n",
       "2006-01-01 20:35:00         7.0  NaN   NaN  NaN  NaN   NaN\n",
       "2006-01-01 21:00:00         7.0  NaN   6.0  NaN  4.0   7.0\n",
       "2006-01-01 21:30:00         7.0  NaN   6.0  NaN  4.0   NaN\n",
       "2006-01-01 22:00:00         7.0  NaN   6.0  NaN  4.0   7.0\n",
       "2006-01-01 22:30:00         7.0  NaN   6.0  NaN  NaN   NaN\n",
       "2006-01-01 23:00:00         6.0  NaN   6.0  NaN  4.0   7.0\n",
       "2006-01-01 23:30:00         6.0  NaN   6.0  NaN  NaN   NaN\n",
       "2006-01-02 00:00:00         6.0  NaN   6.0  NaN  4.0   6.0\n",
       "2006-01-02 00:30:00         6.0  NaN   5.0  NaN  NaN   6.0\n",
       "2006-01-02 01:00:00         7.0  NaN   4.0  NaN  NaN   6.0\n",
       "2006-01-02 01:30:00         7.0  NaN   4.0  NaN  NaN   5.0\n",
       "2006-01-02 02:00:00         7.0  NaN   4.0  NaN  NaN   5.0"
      ]
     },
     "execution_count": 17,
     "metadata": {},
     "output_type": "execute_result"
    }
   ],
   "source": [
    "temperature_all_stations_pre.head(60)"
   ]
  },
  {
   "cell_type": "markdown",
   "metadata": {},
   "source": [
    "The table below shows the percentage of missing values among the different weather stations. Note that starting from 2012, records may be qualified as sufficiently complete, but this would leave a short range of historical measurements."
   ]
  },
  {
   "cell_type": "code",
   "execution_count": 18,
   "metadata": {},
   "outputs": [
    {
     "data": {
      "text/html": [
       "<div>\n",
       "<style scoped>\n",
       "    .dataframe tbody tr th:only-of-type {\n",
       "        vertical-align: middle;\n",
       "    }\n",
       "\n",
       "    .dataframe tbody tr th {\n",
       "        vertical-align: top;\n",
       "    }\n",
       "\n",
       "    .dataframe thead th {\n",
       "        text-align: right;\n",
       "    }\n",
       "</style>\n",
       "<table border=\"1\" class=\"dataframe\">\n",
       "  <thead>\n",
       "    <tr style=\"text-align: right;\">\n",
       "      <th></th>\n",
       "      <th></th>\n",
       "      <th>2006</th>\n",
       "      <th>2007</th>\n",
       "      <th>2008</th>\n",
       "      <th>2009</th>\n",
       "      <th>2010</th>\n",
       "      <th>2011</th>\n",
       "      <th>2012</th>\n",
       "      <th>2013</th>\n",
       "      <th>2014</th>\n",
       "      <th>2015</th>\n",
       "      <th>2016</th>\n",
       "      <th>2017</th>\n",
       "    </tr>\n",
       "    <tr>\n",
       "      <th></th>\n",
       "      <th>station</th>\n",
       "      <th></th>\n",
       "      <th></th>\n",
       "      <th></th>\n",
       "      <th></th>\n",
       "      <th></th>\n",
       "      <th></th>\n",
       "      <th></th>\n",
       "      <th></th>\n",
       "      <th></th>\n",
       "      <th></th>\n",
       "      <th></th>\n",
       "      <th></th>\n",
       "    </tr>\n",
       "  </thead>\n",
       "  <tbody>\n",
       "    <tr>\n",
       "      <th rowspan=\"6\" valign=\"top\">temperature</th>\n",
       "      <th>LFBO</th>\n",
       "      <td>11.235721</td>\n",
       "      <td>8.479268</td>\n",
       "      <td>8.099439</td>\n",
       "      <td>6.964932</td>\n",
       "      <td>7.808307</td>\n",
       "      <td>6.518898</td>\n",
       "      <td>3.636060</td>\n",
       "      <td>2.844236</td>\n",
       "      <td>2.795447</td>\n",
       "      <td>2.734919</td>\n",
       "      <td>3.271292</td>\n",
       "      <td>1.894785</td>\n",
       "    </tr>\n",
       "    <tr>\n",
       "      <th>LFLY</th>\n",
       "      <td>77.961504</td>\n",
       "      <td>36.115399</td>\n",
       "      <td>31.082598</td>\n",
       "      <td>29.772519</td>\n",
       "      <td>29.634002</td>\n",
       "      <td>22.116327</td>\n",
       "      <td>3.524695</td>\n",
       "      <td>2.721544</td>\n",
       "      <td>2.884723</td>\n",
       "      <td>2.634657</td>\n",
       "      <td>2.566272</td>\n",
       "      <td>0.955979</td>\n",
       "    </tr>\n",
       "    <tr>\n",
       "      <th>LFML</th>\n",
       "      <td>10.734964</td>\n",
       "      <td>8.484590</td>\n",
       "      <td>7.623630</td>\n",
       "      <td>6.770411</td>\n",
       "      <td>7.636578</td>\n",
       "      <td>6.731293</td>\n",
       "      <td>4.643911</td>\n",
       "      <td>3.892700</td>\n",
       "      <td>3.995090</td>\n",
       "      <td>3.626135</td>\n",
       "      <td>2.363226</td>\n",
       "      <td>1.230752</td>\n",
       "    </tr>\n",
       "    <tr>\n",
       "      <th>LFPB</th>\n",
       "      <td>12.425017</td>\n",
       "      <td>8.638952</td>\n",
       "      <td>8.110131</td>\n",
       "      <td>6.581294</td>\n",
       "      <td>7.663411</td>\n",
       "      <td>5.571289</td>\n",
       "      <td>3.719583</td>\n",
       "      <td>3.998662</td>\n",
       "      <td>2.695012</td>\n",
       "      <td>2.801760</td>\n",
       "      <td>3.846588</td>\n",
       "      <td>1.728777</td>\n",
       "    </tr>\n",
       "    <tr>\n",
       "      <th>LFQQ</th>\n",
       "      <td>23.165197</td>\n",
       "      <td>14.462128</td>\n",
       "      <td>13.803796</td>\n",
       "      <td>12.573621</td>\n",
       "      <td>13.040678</td>\n",
       "      <td>11.698072</td>\n",
       "      <td>8.157470</td>\n",
       "      <td>7.768669</td>\n",
       "      <td>7.214597</td>\n",
       "      <td>3.330920</td>\n",
       "      <td>3.102087</td>\n",
       "      <td>2.610338</td>\n",
       "    </tr>\n",
       "    <tr>\n",
       "      <th>LFRS</th>\n",
       "      <td>44.603829</td>\n",
       "      <td>43.040400</td>\n",
       "      <td>41.422080</td>\n",
       "      <td>42.475820</td>\n",
       "      <td>41.773103</td>\n",
       "      <td>30.040301</td>\n",
       "      <td>4.877777</td>\n",
       "      <td>3.898277</td>\n",
       "      <td>3.771900</td>\n",
       "      <td>3.453462</td>\n",
       "      <td>2.413988</td>\n",
       "      <td>1.425382</td>\n",
       "    </tr>\n",
       "  </tbody>\n",
       "</table>\n",
       "</div>"
      ],
      "text/plain": [
       "                          2006       2007       2008       2009       2010  \\\n",
       "            station                                                          \n",
       "temperature LFBO     11.235721   8.479268   8.099439   6.964932   7.808307   \n",
       "            LFLY     77.961504  36.115399  31.082598  29.772519  29.634002   \n",
       "            LFML     10.734964   8.484590   7.623630   6.770411   7.636578   \n",
       "            LFPB     12.425017   8.638952   8.110131   6.581294   7.663411   \n",
       "            LFQQ     23.165197  14.462128  13.803796  12.573621  13.040678   \n",
       "            LFRS     44.603829  43.040400  41.422080  42.475820  41.773103   \n",
       "\n",
       "                          2011      2012      2013      2014      2015  \\\n",
       "            station                                                      \n",
       "temperature LFBO      6.518898  3.636060  2.844236  2.795447  2.734919   \n",
       "            LFLY     22.116327  3.524695  2.721544  2.884723  2.634657   \n",
       "            LFML      6.731293  4.643911  3.892700  3.995090  3.626135   \n",
       "            LFPB      5.571289  3.719583  3.998662  2.695012  2.801760   \n",
       "            LFQQ     11.698072  8.157470  7.768669  7.214597  3.330920   \n",
       "            LFRS     30.040301  4.877777  3.898277  3.771900  3.453462   \n",
       "\n",
       "                         2016      2017  \n",
       "            station                      \n",
       "temperature LFBO     3.271292  1.894785  \n",
       "            LFLY     2.566272  0.955979  \n",
       "            LFML     2.363226  1.230752  \n",
       "            LFPB     3.846588  1.728777  \n",
       "            LFQQ     3.102087  2.610338  \n",
       "            LFRS     2.413988  1.425382  "
      ]
     },
     "metadata": {},
     "output_type": "display_data"
    }
   ],
   "source": [
    "df = temperature_all_stations_pre\n",
    "missing_value_df = pd.DataFrame({str(y): df[str(y)].isnull().sum() * 100 / len(df[str(y)]) for y in range(2006,2018)})\n",
    "display(missing_value_df)"
   ]
  },
  {
   "cell_type": "markdown",
   "metadata": {},
   "source": [
    "Since we don't require the finest half-hourly resolution, let's adopt 2007 as starting year. "
   ]
  },
  {
   "cell_type": "code",
   "execution_count": 19,
   "metadata": {},
   "outputs": [],
   "source": [
    "starting_year = '2007'\n",
    "temperature_all_stations = temperature_all_stations_pre[starting_year:]"
   ]
  },
  {
   "cell_type": "markdown",
   "metadata": {},
   "source": [
    "The mean and median lie close to each other, so there are likely no outliers that might affect our analysis."
   ]
  },
  {
   "cell_type": "code",
   "execution_count": 20,
   "metadata": {},
   "outputs": [
    {
     "data": {
      "text/html": [
       "<div>\n",
       "<style scoped>\n",
       "    .dataframe tbody tr th:only-of-type {\n",
       "        vertical-align: middle;\n",
       "    }\n",
       "\n",
       "    .dataframe tbody tr th {\n",
       "        vertical-align: top;\n",
       "    }\n",
       "\n",
       "    .dataframe thead tr th {\n",
       "        text-align: left;\n",
       "    }\n",
       "</style>\n",
       "<table border=\"1\" class=\"dataframe\">\n",
       "  <thead>\n",
       "    <tr>\n",
       "      <th></th>\n",
       "      <th colspan=\"6\" halign=\"left\">temperature</th>\n",
       "    </tr>\n",
       "    <tr>\n",
       "      <th>station</th>\n",
       "      <th>LFBO</th>\n",
       "      <th>LFLY</th>\n",
       "      <th>LFML</th>\n",
       "      <th>LFPB</th>\n",
       "      <th>LFQQ</th>\n",
       "      <th>LFRS</th>\n",
       "    </tr>\n",
       "  </thead>\n",
       "  <tbody>\n",
       "    <tr>\n",
       "      <th>count</th>\n",
       "      <td>189844.000000</td>\n",
       "      <td>169534.000000</td>\n",
       "      <td>189494.000000</td>\n",
       "      <td>189795.000000</td>\n",
       "      <td>182000.000000</td>\n",
       "      <td>159416.000000</td>\n",
       "    </tr>\n",
       "    <tr>\n",
       "      <th>mean</th>\n",
       "      <td>14.048213</td>\n",
       "      <td>12.951225</td>\n",
       "      <td>15.814802</td>\n",
       "      <td>12.071477</td>\n",
       "      <td>11.182549</td>\n",
       "      <td>12.410385</td>\n",
       "    </tr>\n",
       "    <tr>\n",
       "      <th>std</th>\n",
       "      <td>7.558399</td>\n",
       "      <td>8.151020</td>\n",
       "      <td>7.634371</td>\n",
       "      <td>7.069095</td>\n",
       "      <td>6.766268</td>\n",
       "      <td>6.378766</td>\n",
       "    </tr>\n",
       "    <tr>\n",
       "      <th>min</th>\n",
       "      <td>-12.000000</td>\n",
       "      <td>-12.000000</td>\n",
       "      <td>-9.000000</td>\n",
       "      <td>-12.000000</td>\n",
       "      <td>-13.000000</td>\n",
       "      <td>-8.000000</td>\n",
       "    </tr>\n",
       "    <tr>\n",
       "      <th>25%</th>\n",
       "      <td>9.000000</td>\n",
       "      <td>7.000000</td>\n",
       "      <td>10.000000</td>\n",
       "      <td>7.000000</td>\n",
       "      <td>6.000000</td>\n",
       "      <td>8.000000</td>\n",
       "    </tr>\n",
       "    <tr>\n",
       "      <th>50%</th>\n",
       "      <td>14.000000</td>\n",
       "      <td>13.000000</td>\n",
       "      <td>16.000000</td>\n",
       "      <td>12.000000</td>\n",
       "      <td>11.000000</td>\n",
       "      <td>12.000000</td>\n",
       "    </tr>\n",
       "    <tr>\n",
       "      <th>75%</th>\n",
       "      <td>19.000000</td>\n",
       "      <td>19.000000</td>\n",
       "      <td>22.000000</td>\n",
       "      <td>17.000000</td>\n",
       "      <td>16.000000</td>\n",
       "      <td>17.000000</td>\n",
       "    </tr>\n",
       "    <tr>\n",
       "      <th>max</th>\n",
       "      <td>40.000000</td>\n",
       "      <td>39.000000</td>\n",
       "      <td>39.000000</td>\n",
       "      <td>39.000000</td>\n",
       "      <td>35.000000</td>\n",
       "      <td>37.000000</td>\n",
       "    </tr>\n",
       "  </tbody>\n",
       "</table>\n",
       "</div>"
      ],
      "text/plain": [
       "           temperature                                               \\\n",
       "station           LFBO           LFLY           LFML           LFPB   \n",
       "count    189844.000000  169534.000000  189494.000000  189795.000000   \n",
       "mean         14.048213      12.951225      15.814802      12.071477   \n",
       "std           7.558399       8.151020       7.634371       7.069095   \n",
       "min         -12.000000     -12.000000      -9.000000     -12.000000   \n",
       "25%           9.000000       7.000000      10.000000       7.000000   \n",
       "50%          14.000000      13.000000      16.000000      12.000000   \n",
       "75%          19.000000      19.000000      22.000000      17.000000   \n",
       "max          40.000000      39.000000      39.000000      39.000000   \n",
       "\n",
       "                                       \n",
       "station           LFQQ           LFRS  \n",
       "count    182000.000000  159416.000000  \n",
       "mean         11.182549      12.410385  \n",
       "std           6.766268       6.378766  \n",
       "min         -13.000000      -8.000000  \n",
       "25%           6.000000       8.000000  \n",
       "50%          11.000000      12.000000  \n",
       "75%          16.000000      17.000000  \n",
       "max          35.000000      37.000000  "
      ]
     },
     "execution_count": 20,
     "metadata": {},
     "output_type": "execute_result"
    }
   ],
   "source": [
    "temperature_all_stations.describe() "
   ]
  },
  {
   "cell_type": "markdown",
   "metadata": {},
   "source": [
    "### Setting data resolution\n",
    "\n",
    "Here we will again opt for a daily resolution of temperature data. First we compute daily averages for each station."
   ]
  },
  {
   "cell_type": "code",
   "execution_count": 21,
   "metadata": {},
   "outputs": [],
   "source": [
    "temperature_stations_daily = temperature_all_stations.resample('D').mean()"
   ]
  },
  {
   "cell_type": "code",
   "execution_count": 22,
   "metadata": {},
   "outputs": [
    {
     "data": {
      "text/html": [
       "<div>\n",
       "<style scoped>\n",
       "    .dataframe tbody tr th:only-of-type {\n",
       "        vertical-align: middle;\n",
       "    }\n",
       "\n",
       "    .dataframe tbody tr th {\n",
       "        vertical-align: top;\n",
       "    }\n",
       "\n",
       "    .dataframe thead tr th {\n",
       "        text-align: left;\n",
       "    }\n",
       "\n",
       "    .dataframe thead tr:last-of-type th {\n",
       "        text-align: right;\n",
       "    }\n",
       "</style>\n",
       "<table border=\"1\" class=\"dataframe\">\n",
       "  <thead>\n",
       "    <tr>\n",
       "      <th></th>\n",
       "      <th colspan=\"6\" halign=\"left\">temperature</th>\n",
       "    </tr>\n",
       "    <tr>\n",
       "      <th>station</th>\n",
       "      <th>LFBO</th>\n",
       "      <th>LFLY</th>\n",
       "      <th>LFML</th>\n",
       "      <th>LFPB</th>\n",
       "      <th>LFQQ</th>\n",
       "      <th>LFRS</th>\n",
       "    </tr>\n",
       "    <tr>\n",
       "      <th>timestamp</th>\n",
       "      <th></th>\n",
       "      <th></th>\n",
       "      <th></th>\n",
       "      <th></th>\n",
       "      <th></th>\n",
       "      <th></th>\n",
       "    </tr>\n",
       "  </thead>\n",
       "  <tbody>\n",
       "    <tr>\n",
       "      <th>2007-01-01</th>\n",
       "      <td>9.428571</td>\n",
       "      <td>10.777778</td>\n",
       "      <td>12.941176</td>\n",
       "      <td>8.885714</td>\n",
       "      <td>7.387097</td>\n",
       "      <td>9.166667</td>\n",
       "    </tr>\n",
       "    <tr>\n",
       "      <th>2007-01-02</th>\n",
       "      <td>8.833333</td>\n",
       "      <td>6.416667</td>\n",
       "      <td>9.854167</td>\n",
       "      <td>7.166667</td>\n",
       "      <td>6.522727</td>\n",
       "      <td>8.481481</td>\n",
       "    </tr>\n",
       "    <tr>\n",
       "      <th>2007-01-03</th>\n",
       "      <td>7.595745</td>\n",
       "      <td>6.750000</td>\n",
       "      <td>8.062500</td>\n",
       "      <td>7.541667</td>\n",
       "      <td>6.782609</td>\n",
       "      <td>7.724138</td>\n",
       "    </tr>\n",
       "    <tr>\n",
       "      <th>2007-01-04</th>\n",
       "      <td>8.361702</td>\n",
       "      <td>5.400000</td>\n",
       "      <td>6.804348</td>\n",
       "      <td>9.687500</td>\n",
       "      <td>9.697674</td>\n",
       "      <td>11.000000</td>\n",
       "    </tr>\n",
       "    <tr>\n",
       "      <th>2007-01-05</th>\n",
       "      <td>10.270833</td>\n",
       "      <td>6.909091</td>\n",
       "      <td>10.562500</td>\n",
       "      <td>10.391304</td>\n",
       "      <td>9.386364</td>\n",
       "      <td>10.810811</td>\n",
       "    </tr>\n",
       "    <tr>\n",
       "      <th>...</th>\n",
       "      <td>...</td>\n",
       "      <td>...</td>\n",
       "      <td>...</td>\n",
       "      <td>...</td>\n",
       "      <td>...</td>\n",
       "      <td>...</td>\n",
       "    </tr>\n",
       "    <tr>\n",
       "      <th>2017-12-26</th>\n",
       "      <td>7.791667</td>\n",
       "      <td>9.750000</td>\n",
       "      <td>11.791667</td>\n",
       "      <td>6.770833</td>\n",
       "      <td>6.125000</td>\n",
       "      <td>7.458333</td>\n",
       "    </tr>\n",
       "    <tr>\n",
       "      <th>2017-12-27</th>\n",
       "      <td>6.333333</td>\n",
       "      <td>7.020833</td>\n",
       "      <td>9.104167</td>\n",
       "      <td>5.250000</td>\n",
       "      <td>5.145833</td>\n",
       "      <td>5.541667</td>\n",
       "    </tr>\n",
       "    <tr>\n",
       "      <th>2017-12-28</th>\n",
       "      <td>4.979167</td>\n",
       "      <td>2.666667</td>\n",
       "      <td>5.812500</td>\n",
       "      <td>2.583333</td>\n",
       "      <td>1.958333</td>\n",
       "      <td>3.208333</td>\n",
       "    </tr>\n",
       "    <tr>\n",
       "      <th>2017-12-29</th>\n",
       "      <td>7.729167</td>\n",
       "      <td>1.458333</td>\n",
       "      <td>4.312500</td>\n",
       "      <td>4.187500</td>\n",
       "      <td>3.229167</td>\n",
       "      <td>10.187500</td>\n",
       "    </tr>\n",
       "    <tr>\n",
       "      <th>2017-12-30</th>\n",
       "      <td>12.625000</td>\n",
       "      <td>7.312500</td>\n",
       "      <td>8.229167</td>\n",
       "      <td>12.895833</td>\n",
       "      <td>10.750000</td>\n",
       "      <td>13.208333</td>\n",
       "    </tr>\n",
       "  </tbody>\n",
       "</table>\n",
       "<p>4017 rows × 6 columns</p>\n",
       "</div>"
      ],
      "text/plain": [
       "           temperature                                                       \n",
       "station           LFBO       LFLY       LFML       LFPB       LFQQ       LFRS\n",
       "timestamp                                                                    \n",
       "2007-01-01    9.428571  10.777778  12.941176   8.885714   7.387097   9.166667\n",
       "2007-01-02    8.833333   6.416667   9.854167   7.166667   6.522727   8.481481\n",
       "2007-01-03    7.595745   6.750000   8.062500   7.541667   6.782609   7.724138\n",
       "2007-01-04    8.361702   5.400000   6.804348   9.687500   9.697674  11.000000\n",
       "2007-01-05   10.270833   6.909091  10.562500  10.391304   9.386364  10.810811\n",
       "...                ...        ...        ...        ...        ...        ...\n",
       "2017-12-26    7.791667   9.750000  11.791667   6.770833   6.125000   7.458333\n",
       "2017-12-27    6.333333   7.020833   9.104167   5.250000   5.145833   5.541667\n",
       "2017-12-28    4.979167   2.666667   5.812500   2.583333   1.958333   3.208333\n",
       "2017-12-29    7.729167   1.458333   4.312500   4.187500   3.229167  10.187500\n",
       "2017-12-30   12.625000   7.312500   8.229167  12.895833  10.750000  13.208333\n",
       "\n",
       "[4017 rows x 6 columns]"
      ]
     },
     "execution_count": 22,
     "metadata": {},
     "output_type": "execute_result"
    }
   ],
   "source": [
    "temperature_stations_daily"
   ]
  },
  {
   "cell_type": "markdown",
   "metadata": {},
   "source": [
    "Note that the last record corresponds to December 30 2017. Below we will fill the missing record for the last day of 2017 with the value of Dec. 30th (temperature seems to vary a lot around those days though). For the moment we just make sure the datetime index comprises all days in the period under consideration."
   ]
  },
  {
   "cell_type": "code",
   "execution_count": 23,
   "metadata": {},
   "outputs": [],
   "source": [
    "last_year = '2017'\n",
    "complete_index = pd.date_range(start=starting_year+'-01-01', end=last_year+'-12-31', freq='D')\n",
    "temperature_daily = temperature_stations_daily.reindex(complete_index)"
   ]
  },
  {
   "cell_type": "markdown",
   "metadata": {},
   "source": [
    "At this point we check if there are incidentally a days for which no weather station has temperature measurements"
   ]
  },
  {
   "cell_type": "code",
   "execution_count": 24,
   "metadata": {},
   "outputs": [
    {
     "data": {
      "text/html": [
       "<div>\n",
       "<style scoped>\n",
       "    .dataframe tbody tr th:only-of-type {\n",
       "        vertical-align: middle;\n",
       "    }\n",
       "\n",
       "    .dataframe tbody tr th {\n",
       "        vertical-align: top;\n",
       "    }\n",
       "\n",
       "    .dataframe thead tr th {\n",
       "        text-align: left;\n",
       "    }\n",
       "</style>\n",
       "<table border=\"1\" class=\"dataframe\">\n",
       "  <thead>\n",
       "    <tr>\n",
       "      <th></th>\n",
       "      <th colspan=\"6\" halign=\"left\">temperature</th>\n",
       "    </tr>\n",
       "    <tr>\n",
       "      <th>station</th>\n",
       "      <th>LFBO</th>\n",
       "      <th>LFLY</th>\n",
       "      <th>LFML</th>\n",
       "      <th>LFPB</th>\n",
       "      <th>LFQQ</th>\n",
       "      <th>LFRS</th>\n",
       "    </tr>\n",
       "  </thead>\n",
       "  <tbody>\n",
       "    <tr>\n",
       "      <th>2008-03-28</th>\n",
       "      <td>10.520833</td>\n",
       "      <td>NaN</td>\n",
       "      <td>11.875000</td>\n",
       "      <td>6.276596</td>\n",
       "      <td>5.909091</td>\n",
       "      <td>9.659574</td>\n",
       "    </tr>\n",
       "    <tr>\n",
       "      <th>2012-07-15</th>\n",
       "      <td>NaN</td>\n",
       "      <td>NaN</td>\n",
       "      <td>NaN</td>\n",
       "      <td>NaN</td>\n",
       "      <td>NaN</td>\n",
       "      <td>NaN</td>\n",
       "    </tr>\n",
       "    <tr>\n",
       "      <th>2013-04-30</th>\n",
       "      <td>10.187500</td>\n",
       "      <td>12.37500</td>\n",
       "      <td>17.458333</td>\n",
       "      <td>NaN</td>\n",
       "      <td>10.000000</td>\n",
       "      <td>9.833333</td>\n",
       "    </tr>\n",
       "    <tr>\n",
       "      <th>2016-08-17</th>\n",
       "      <td>24.375000</td>\n",
       "      <td>24.06383</td>\n",
       "      <td>24.062500</td>\n",
       "      <td>NaN</td>\n",
       "      <td>20.354167</td>\n",
       "      <td>21.229167</td>\n",
       "    </tr>\n",
       "    <tr>\n",
       "      <th>2017-12-31</th>\n",
       "      <td>NaN</td>\n",
       "      <td>NaN</td>\n",
       "      <td>NaN</td>\n",
       "      <td>NaN</td>\n",
       "      <td>NaN</td>\n",
       "      <td>NaN</td>\n",
       "    </tr>\n",
       "  </tbody>\n",
       "</table>\n",
       "</div>"
      ],
      "text/plain": [
       "           temperature                                                     \n",
       "station           LFBO      LFLY       LFML      LFPB       LFQQ       LFRS\n",
       "2008-03-28   10.520833       NaN  11.875000  6.276596   5.909091   9.659574\n",
       "2012-07-15         NaN       NaN        NaN       NaN        NaN        NaN\n",
       "2013-04-30   10.187500  12.37500  17.458333       NaN  10.000000   9.833333\n",
       "2016-08-17   24.375000  24.06383  24.062500       NaN  20.354167  21.229167\n",
       "2017-12-31         NaN       NaN        NaN       NaN        NaN        NaN"
      ]
     },
     "execution_count": 24,
     "metadata": {},
     "output_type": "execute_result"
    }
   ],
   "source": [
    "temperature_daily[temperature_daily.isnull().any(axis=1)]"
   ]
  },
  {
   "cell_type": "markdown",
   "metadata": {},
   "source": [
    "We fill those missing records with the last previous non-null value"
   ]
  },
  {
   "cell_type": "code",
   "execution_count": 25,
   "metadata": {},
   "outputs": [],
   "source": [
    "temperature_daily.fillna(method='ffill', inplace=True)"
   ]
  },
  {
   "cell_type": "markdown",
   "metadata": {},
   "source": [
    "Let us finally add columns containing the station-wide mean temperature and its standard deviation."
   ]
  },
  {
   "cell_type": "code",
   "execution_count": 26,
   "metadata": {},
   "outputs": [],
   "source": [
    "temperature_daily.columns = temperature_daily.columns.get_level_values(1)\n",
    "\n",
    "temperature_daily['mean'] = temperature_daily.mean(axis=1)\n",
    "temperature_daily['std'] = temperature_daily.std(axis=1)"
   ]
  },
  {
   "cell_type": "code",
   "execution_count": 48,
   "metadata": {},
   "outputs": [
    {
     "data": {
      "text/html": [
       "<div>\n",
       "<style scoped>\n",
       "    .dataframe tbody tr th:only-of-type {\n",
       "        vertical-align: middle;\n",
       "    }\n",
       "\n",
       "    .dataframe tbody tr th {\n",
       "        vertical-align: top;\n",
       "    }\n",
       "\n",
       "    .dataframe thead th {\n",
       "        text-align: right;\n",
       "    }\n",
       "</style>\n",
       "<table border=\"1\" class=\"dataframe\">\n",
       "  <thead>\n",
       "    <tr style=\"text-align: right;\">\n",
       "      <th>station</th>\n",
       "      <th>LFBO</th>\n",
       "      <th>LFLY</th>\n",
       "      <th>LFML</th>\n",
       "      <th>LFPB</th>\n",
       "      <th>LFQQ</th>\n",
       "      <th>LFRS</th>\n",
       "      <th>mean</th>\n",
       "      <th>std</th>\n",
       "    </tr>\n",
       "  </thead>\n",
       "  <tbody>\n",
       "    <tr>\n",
       "      <th>2007-01-01</th>\n",
       "      <td>9.428571</td>\n",
       "      <td>10.777778</td>\n",
       "      <td>12.941176</td>\n",
       "      <td>8.885714</td>\n",
       "      <td>7.387097</td>\n",
       "      <td>9.166667</td>\n",
       "      <td>9.764501</td>\n",
       "      <td>1.732655</td>\n",
       "    </tr>\n",
       "    <tr>\n",
       "      <th>2007-01-02</th>\n",
       "      <td>8.833333</td>\n",
       "      <td>6.416667</td>\n",
       "      <td>9.854167</td>\n",
       "      <td>7.166667</td>\n",
       "      <td>6.522727</td>\n",
       "      <td>8.481481</td>\n",
       "      <td>7.879174</td>\n",
       "      <td>1.268880</td>\n",
       "    </tr>\n",
       "    <tr>\n",
       "      <th>2007-01-03</th>\n",
       "      <td>7.595745</td>\n",
       "      <td>6.750000</td>\n",
       "      <td>8.062500</td>\n",
       "      <td>7.541667</td>\n",
       "      <td>6.782609</td>\n",
       "      <td>7.724138</td>\n",
       "      <td>7.409443</td>\n",
       "      <td>0.483993</td>\n",
       "    </tr>\n",
       "    <tr>\n",
       "      <th>2007-01-04</th>\n",
       "      <td>8.361702</td>\n",
       "      <td>5.400000</td>\n",
       "      <td>6.804348</td>\n",
       "      <td>9.687500</td>\n",
       "      <td>9.697674</td>\n",
       "      <td>11.000000</td>\n",
       "      <td>8.491871</td>\n",
       "      <td>1.897303</td>\n",
       "    </tr>\n",
       "    <tr>\n",
       "      <th>2007-01-05</th>\n",
       "      <td>10.270833</td>\n",
       "      <td>6.909091</td>\n",
       "      <td>10.562500</td>\n",
       "      <td>10.391304</td>\n",
       "      <td>9.386364</td>\n",
       "      <td>10.810811</td>\n",
       "      <td>9.721817</td>\n",
       "      <td>1.333307</td>\n",
       "    </tr>\n",
       "    <tr>\n",
       "      <th>...</th>\n",
       "      <td>...</td>\n",
       "      <td>...</td>\n",
       "      <td>...</td>\n",
       "      <td>...</td>\n",
       "      <td>...</td>\n",
       "      <td>...</td>\n",
       "      <td>...</td>\n",
       "      <td>...</td>\n",
       "    </tr>\n",
       "    <tr>\n",
       "      <th>2017-12-27</th>\n",
       "      <td>6.333333</td>\n",
       "      <td>7.020833</td>\n",
       "      <td>9.104167</td>\n",
       "      <td>5.250000</td>\n",
       "      <td>5.145833</td>\n",
       "      <td>5.541667</td>\n",
       "      <td>6.399306</td>\n",
       "      <td>1.374443</td>\n",
       "    </tr>\n",
       "    <tr>\n",
       "      <th>2017-12-28</th>\n",
       "      <td>4.979167</td>\n",
       "      <td>2.666667</td>\n",
       "      <td>5.812500</td>\n",
       "      <td>2.583333</td>\n",
       "      <td>1.958333</td>\n",
       "      <td>3.208333</td>\n",
       "      <td>3.534722</td>\n",
       "      <td>1.385934</td>\n",
       "    </tr>\n",
       "    <tr>\n",
       "      <th>2017-12-29</th>\n",
       "      <td>7.729167</td>\n",
       "      <td>1.458333</td>\n",
       "      <td>4.312500</td>\n",
       "      <td>4.187500</td>\n",
       "      <td>3.229167</td>\n",
       "      <td>10.187500</td>\n",
       "      <td>5.184028</td>\n",
       "      <td>2.914543</td>\n",
       "    </tr>\n",
       "    <tr>\n",
       "      <th>2017-12-30</th>\n",
       "      <td>12.625000</td>\n",
       "      <td>7.312500</td>\n",
       "      <td>8.229167</td>\n",
       "      <td>12.895833</td>\n",
       "      <td>10.750000</td>\n",
       "      <td>13.208333</td>\n",
       "      <td>10.836806</td>\n",
       "      <td>2.319821</td>\n",
       "    </tr>\n",
       "    <tr>\n",
       "      <th>2017-12-31</th>\n",
       "      <td>12.625000</td>\n",
       "      <td>7.312500</td>\n",
       "      <td>8.229167</td>\n",
       "      <td>12.895833</td>\n",
       "      <td>10.750000</td>\n",
       "      <td>13.208333</td>\n",
       "      <td>10.836806</td>\n",
       "      <td>2.319821</td>\n",
       "    </tr>\n",
       "  </tbody>\n",
       "</table>\n",
       "<p>4018 rows × 8 columns</p>\n",
       "</div>"
      ],
      "text/plain": [
       "station          LFBO       LFLY       LFML       LFPB       LFQQ       LFRS  \\\n",
       "2007-01-01   9.428571  10.777778  12.941176   8.885714   7.387097   9.166667   \n",
       "2007-01-02   8.833333   6.416667   9.854167   7.166667   6.522727   8.481481   \n",
       "2007-01-03   7.595745   6.750000   8.062500   7.541667   6.782609   7.724138   \n",
       "2007-01-04   8.361702   5.400000   6.804348   9.687500   9.697674  11.000000   \n",
       "2007-01-05  10.270833   6.909091  10.562500  10.391304   9.386364  10.810811   \n",
       "...               ...        ...        ...        ...        ...        ...   \n",
       "2017-12-27   6.333333   7.020833   9.104167   5.250000   5.145833   5.541667   \n",
       "2017-12-28   4.979167   2.666667   5.812500   2.583333   1.958333   3.208333   \n",
       "2017-12-29   7.729167   1.458333   4.312500   4.187500   3.229167  10.187500   \n",
       "2017-12-30  12.625000   7.312500   8.229167  12.895833  10.750000  13.208333   \n",
       "2017-12-31  12.625000   7.312500   8.229167  12.895833  10.750000  13.208333   \n",
       "\n",
       "station          mean       std  \n",
       "2007-01-01   9.764501  1.732655  \n",
       "2007-01-02   7.879174  1.268880  \n",
       "2007-01-03   7.409443  0.483993  \n",
       "2007-01-04   8.491871  1.897303  \n",
       "2007-01-05   9.721817  1.333307  \n",
       "...               ...       ...  \n",
       "2017-12-27   6.399306  1.374443  \n",
       "2017-12-28   3.534722  1.385934  \n",
       "2017-12-29   5.184028  2.914543  \n",
       "2017-12-30  10.836806  2.319821  \n",
       "2017-12-31  10.836806  2.319821  \n",
       "\n",
       "[4018 rows x 8 columns]"
      ]
     },
     "execution_count": 48,
     "metadata": {},
     "output_type": "execute_result"
    }
   ],
   "source": [
    "temperature_daily"
   ]
  },
  {
   "cell_type": "markdown",
   "metadata": {},
   "source": [
    "### Preparing dataframes for analysis"
   ]
  },
  {
   "cell_type": "markdown",
   "metadata": {},
   "source": [
    "The last step of data preparation consists of creating a dataframe of daily mean temperatures for 2017 and one of daily historical mean temperatures. We start by defining the easier one."
   ]
  },
  {
   "cell_type": "code",
   "execution_count": 49,
   "metadata": {},
   "outputs": [],
   "source": [
    "temp_last_daily = temperature_daily.loc[last_year][['mean']]"
   ]
  },
  {
   "cell_type": "markdown",
   "metadata": {},
   "source": [
    "To produce a dataframe with historical mean temperatures for each day of the year, we need to aggregate by day, regardless of year"
   ]
  },
  {
   "cell_type": "code",
   "execution_count": 50,
   "metadata": {},
   "outputs": [],
   "source": [
    "next_to_last=str(int(last_year)-1)\n",
    "temp_hist_daily_pre = temperature_daily[:next_to_last][['mean']] \n",
    "temp_hist_daily_pre['time_of_year'] = temp_hist_daily_pre.index.strftime('%m-%d %H:%M:%S')\n",
    "\n",
    "temp_hist_daily_leap = temp_hist_daily_pre.groupby('time_of_year').mean()"
   ]
  },
  {
   "cell_type": "markdown",
   "metadata": {},
   "source": [
    "The resulting dataframe will contain one row corresponding to the leap day February 29th. Since 2017 is not leap, we remove it to obtain compatible dataframes"
   ]
  },
  {
   "cell_type": "code",
   "execution_count": 51,
   "metadata": {},
   "outputs": [],
   "source": [
    "if temp_last_daily.index.is_leap_year.all(): \n",
    "    temp_hist_daily = temp_hist_daily_leap    \n",
    "else: temp_hist_daily = temp_hist_daily_leap[~temp_hist_daily_leap.index.str.contains('02-29', regex=False)]"
   ]
  },
  {
   "cell_type": "markdown",
   "metadata": {},
   "source": [
    "After being grouped by `time_of_year`, the dataframe is indexed by a string. Since we would like to interpret it as a real timestamp that should be compared with the data for year 2017, we make a datetime index out of it."
   ]
  },
  {
   "cell_type": "code",
   "execution_count": 53,
   "metadata": {},
   "outputs": [
    {
     "name": "stderr",
     "output_type": "stream",
     "text": [
      "<ipython-input-53-2bdf23d60f32>:1: SettingWithCopyWarning: \n",
      "A value is trying to be set on a copy of a slice from a DataFrame.\n",
      "Try using .loc[row_indexer,col_indexer] = value instead\n",
      "\n",
      "See the caveats in the documentation: https://pandas.pydata.org/pandas-docs/stable/user_guide/indexing.html#returning-a-view-versus-a-copy\n",
      "  temp_hist_daily['not_a_timestamp'] = pd.to_datetime(last_year+'-'+temp_hist_daily.index)\n"
     ]
    }
   ],
   "source": [
    "temp_hist_daily['not_a_timestamp'] = pd.to_datetime(last_year+'-'+temp_hist_daily.index)"
   ]
  },
  {
   "cell_type": "code",
   "execution_count": 54,
   "metadata": {},
   "outputs": [],
   "source": [
    "temp_hist_daily.set_index('not_a_timestamp', inplace=True, drop=True)"
   ]
  },
  {
   "cell_type": "markdown",
   "metadata": {},
   "source": [
    "The obtained dataframe consists of reference historical mean values for every day of the year 2017.  Each value equals the average of the daily mean temperature on the given date over the historical record (from 2007 to 2016 in this case."
   ]
  },
  {
   "cell_type": "code",
   "execution_count": 55,
   "metadata": {},
   "outputs": [
    {
     "data": {
      "text/html": [
       "<div>\n",
       "<style scoped>\n",
       "    .dataframe tbody tr th:only-of-type {\n",
       "        vertical-align: middle;\n",
       "    }\n",
       "\n",
       "    .dataframe tbody tr th {\n",
       "        vertical-align: top;\n",
       "    }\n",
       "\n",
       "    .dataframe thead th {\n",
       "        text-align: right;\n",
       "    }\n",
       "</style>\n",
       "<table border=\"1\" class=\"dataframe\">\n",
       "  <thead>\n",
       "    <tr style=\"text-align: right;\">\n",
       "      <th>station</th>\n",
       "      <th>mean</th>\n",
       "    </tr>\n",
       "    <tr>\n",
       "      <th>not_a_timestamp</th>\n",
       "      <th></th>\n",
       "    </tr>\n",
       "  </thead>\n",
       "  <tbody>\n",
       "    <tr>\n",
       "      <th>2017-01-01</th>\n",
       "      <td>6.173527</td>\n",
       "    </tr>\n",
       "    <tr>\n",
       "      <th>2017-01-02</th>\n",
       "      <td>5.669386</td>\n",
       "    </tr>\n",
       "    <tr>\n",
       "      <th>2017-01-03</th>\n",
       "      <td>5.660987</td>\n",
       "    </tr>\n",
       "    <tr>\n",
       "      <th>2017-01-04</th>\n",
       "      <td>5.923255</td>\n",
       "    </tr>\n",
       "    <tr>\n",
       "      <th>2017-01-05</th>\n",
       "      <td>5.737905</td>\n",
       "    </tr>\n",
       "    <tr>\n",
       "      <th>...</th>\n",
       "      <td>...</td>\n",
       "    </tr>\n",
       "    <tr>\n",
       "      <th>2017-12-27</th>\n",
       "      <td>5.430167</td>\n",
       "    </tr>\n",
       "    <tr>\n",
       "      <th>2017-12-28</th>\n",
       "      <td>5.242146</td>\n",
       "    </tr>\n",
       "    <tr>\n",
       "      <th>2017-12-29</th>\n",
       "      <td>5.570469</td>\n",
       "    </tr>\n",
       "    <tr>\n",
       "      <th>2017-12-30</th>\n",
       "      <td>5.942758</td>\n",
       "    </tr>\n",
       "    <tr>\n",
       "      <th>2017-12-31</th>\n",
       "      <td>5.911970</td>\n",
       "    </tr>\n",
       "  </tbody>\n",
       "</table>\n",
       "<p>365 rows × 1 columns</p>\n",
       "</div>"
      ],
      "text/plain": [
       "station              mean\n",
       "not_a_timestamp          \n",
       "2017-01-01       6.173527\n",
       "2017-01-02       5.669386\n",
       "2017-01-03       5.660987\n",
       "2017-01-04       5.923255\n",
       "2017-01-05       5.737905\n",
       "...                   ...\n",
       "2017-12-27       5.430167\n",
       "2017-12-28       5.242146\n",
       "2017-12-29       5.570469\n",
       "2017-12-30       5.942758\n",
       "2017-12-31       5.911970\n",
       "\n",
       "[365 rows x 1 columns]"
      ]
     },
     "execution_count": 55,
     "metadata": {},
     "output_type": "execute_result"
    }
   ],
   "source": [
    "temp_hist_daily"
   ]
  },
  {
   "cell_type": "markdown",
   "metadata": {},
   "source": [
    "## Relating temperature deviations with consumption deviations\n",
    "\n",
    "### Data preparation\n",
    "\n",
    "Let's first gather the variables relevant for our analysis in a single dataframe. "
   ]
  },
  {
   "cell_type": "code",
   "execution_count": 56,
   "metadata": {},
   "outputs": [],
   "source": [
    "temperature_consumption = pd.concat([dev_2017_daily,\n",
    "                                     temp_hist_daily,\n",
    "                                     temp_last_daily], \n",
    "                                    axis=1,\n",
    "                                    keys=['surplus',\n",
    "                                          'temp_hist',\n",
    "                                          'temp_'+str(last_year)])\n",
    "\n",
    "# this is to make sure the column labels are those passed as keys in the concatenation\n",
    "temperature_consumption.columns = temperature_consumption.columns.get_level_values(0)\n",
    "\n",
    "temperature_consumption.index.name = 'timestamp'"
   ]
  },
  {
   "cell_type": "markdown",
   "metadata": {},
   "source": [
    "We derive first the deviation of the mean daily temperature in 2017 from the historical mean temperature for the corresponding date."
   ]
  },
  {
   "cell_type": "code",
   "execution_count": 57,
   "metadata": {},
   "outputs": [],
   "source": [
    "temperature_consumption['temp_deviation'] = temperature_consumption['temp_2017']-temperature_consumption['temp_hist']"
   ]
  },
  {
   "cell_type": "markdown",
   "metadata": {},
   "source": [
    "Since we are required to estimate the probability of deficit or surplus in the electrical grid, we add a corresponding categorical value to the dataframe. Its value is one if there is a surplus (or a perfect balance) and zero if there is a deficit."
   ]
  },
  {
   "cell_type": "code",
   "execution_count": 58,
   "metadata": {},
   "outputs": [],
   "source": [
    "def surplus(x): return int((np.sign(x)+1)/2)\n",
    "\n",
    "# .astype('category') would yield a categorical type\n",
    "temperature_consumption['surplus_cat'] = temperature_consumption['surplus'].map(surplus).astype('int')\n"
   ]
  },
  {
   "cell_type": "code",
   "execution_count": 59,
   "metadata": {},
   "outputs": [
    {
     "data": {
      "text/html": [
       "<div>\n",
       "<style scoped>\n",
       "    .dataframe tbody tr th:only-of-type {\n",
       "        vertical-align: middle;\n",
       "    }\n",
       "\n",
       "    .dataframe tbody tr th {\n",
       "        vertical-align: top;\n",
       "    }\n",
       "\n",
       "    .dataframe thead th {\n",
       "        text-align: right;\n",
       "    }\n",
       "</style>\n",
       "<table border=\"1\" class=\"dataframe\">\n",
       "  <thead>\n",
       "    <tr style=\"text-align: right;\">\n",
       "      <th></th>\n",
       "      <th>surplus</th>\n",
       "      <th>temp_hist</th>\n",
       "      <th>temp_2017</th>\n",
       "      <th>temp_deviation</th>\n",
       "      <th>surplus_cat</th>\n",
       "    </tr>\n",
       "    <tr>\n",
       "      <th>timestamp</th>\n",
       "      <th></th>\n",
       "      <th></th>\n",
       "      <th></th>\n",
       "      <th></th>\n",
       "      <th></th>\n",
       "    </tr>\n",
       "  </thead>\n",
       "  <tbody>\n",
       "    <tr>\n",
       "      <th>2017-01-01</th>\n",
       "      <td>-25.520833</td>\n",
       "      <td>6.173527</td>\n",
       "      <td>0.950534</td>\n",
       "      <td>-5.222992</td>\n",
       "      <td>0</td>\n",
       "    </tr>\n",
       "    <tr>\n",
       "      <th>2017-01-02</th>\n",
       "      <td>98.132812</td>\n",
       "      <td>5.669386</td>\n",
       "      <td>3.193579</td>\n",
       "      <td>-2.475806</td>\n",
       "      <td>1</td>\n",
       "    </tr>\n",
       "    <tr>\n",
       "      <th>2017-01-03</th>\n",
       "      <td>-36.273438</td>\n",
       "      <td>5.660987</td>\n",
       "      <td>1.580530</td>\n",
       "      <td>-4.080457</td>\n",
       "      <td>0</td>\n",
       "    </tr>\n",
       "    <tr>\n",
       "      <th>2017-01-04</th>\n",
       "      <td>34.421875</td>\n",
       "      <td>5.923255</td>\n",
       "      <td>2.662430</td>\n",
       "      <td>-3.260825</td>\n",
       "      <td>1</td>\n",
       "    </tr>\n",
       "    <tr>\n",
       "      <th>2017-01-05</th>\n",
       "      <td>25.817708</td>\n",
       "      <td>5.737905</td>\n",
       "      <td>3.032828</td>\n",
       "      <td>-2.705077</td>\n",
       "      <td>1</td>\n",
       "    </tr>\n",
       "    <tr>\n",
       "      <th>...</th>\n",
       "      <td>...</td>\n",
       "      <td>...</td>\n",
       "      <td>...</td>\n",
       "      <td>...</td>\n",
       "      <td>...</td>\n",
       "    </tr>\n",
       "    <tr>\n",
       "      <th>2017-12-27</th>\n",
       "      <td>-80.122396</td>\n",
       "      <td>5.430167</td>\n",
       "      <td>6.399306</td>\n",
       "      <td>0.969139</td>\n",
       "      <td>0</td>\n",
       "    </tr>\n",
       "    <tr>\n",
       "      <th>2017-12-28</th>\n",
       "      <td>-33.854167</td>\n",
       "      <td>5.242146</td>\n",
       "      <td>3.534722</td>\n",
       "      <td>-1.707423</td>\n",
       "      <td>0</td>\n",
       "    </tr>\n",
       "    <tr>\n",
       "      <th>2017-12-29</th>\n",
       "      <td>5.757812</td>\n",
       "      <td>5.570469</td>\n",
       "      <td>5.184028</td>\n",
       "      <td>-0.386442</td>\n",
       "      <td>1</td>\n",
       "    </tr>\n",
       "    <tr>\n",
       "      <th>2017-12-30</th>\n",
       "      <td>-35.747396</td>\n",
       "      <td>5.942758</td>\n",
       "      <td>10.836806</td>\n",
       "      <td>4.894047</td>\n",
       "      <td>0</td>\n",
       "    </tr>\n",
       "    <tr>\n",
       "      <th>2017-12-31</th>\n",
       "      <td>8.614360</td>\n",
       "      <td>5.911970</td>\n",
       "      <td>10.836806</td>\n",
       "      <td>4.924835</td>\n",
       "      <td>1</td>\n",
       "    </tr>\n",
       "  </tbody>\n",
       "</table>\n",
       "<p>365 rows × 5 columns</p>\n",
       "</div>"
      ],
      "text/plain": [
       "              surplus  temp_hist  temp_2017  temp_deviation  surplus_cat\n",
       "timestamp                                                               \n",
       "2017-01-01 -25.520833   6.173527   0.950534       -5.222992            0\n",
       "2017-01-02  98.132812   5.669386   3.193579       -2.475806            1\n",
       "2017-01-03 -36.273438   5.660987   1.580530       -4.080457            0\n",
       "2017-01-04  34.421875   5.923255   2.662430       -3.260825            1\n",
       "2017-01-05  25.817708   5.737905   3.032828       -2.705077            1\n",
       "...               ...        ...        ...             ...          ...\n",
       "2017-12-27 -80.122396   5.430167   6.399306        0.969139            0\n",
       "2017-12-28 -33.854167   5.242146   3.534722       -1.707423            0\n",
       "2017-12-29   5.757812   5.570469   5.184028       -0.386442            1\n",
       "2017-12-30 -35.747396   5.942758  10.836806        4.894047            0\n",
       "2017-12-31   8.614360   5.911970  10.836806        4.924835            1\n",
       "\n",
       "[365 rows x 5 columns]"
      ]
     },
     "execution_count": 59,
     "metadata": {},
     "output_type": "execute_result"
    }
   ],
   "source": [
    "temperature_consumption"
   ]
  },
  {
   "cell_type": "markdown",
   "metadata": {},
   "source": [
    "Since we expect the relation between temperature and consumption deviations to be conditioned by the seasonal temperature, it is reasonable to categorize dates according to meteorological season before doing the analysis (any existing relation might be averaged out otherwise). Meteorological seasons differ from the astronomical seasons in that they begin with the month and exhibit the hottest (in summer) and the coldest (in winter) quarters of the year."
   ]
  },
  {
   "cell_type": "code",
   "execution_count": 60,
   "metadata": {},
   "outputs": [],
   "source": [
    "def get_season(timestamp):\n",
    "    \n",
    "    spring = range(3,6)\n",
    "    summer = range(6,9)\n",
    "    autumn = range(9,12)\n",
    "        \n",
    "    if timestamp.month in spring: return 'Spring'\n",
    "    elif timestamp.month in summer: return 'Summer'\n",
    "    elif timestamp.month in autumn: return 'Autumn'\n",
    "    else: return 'Winter'\n",
    "\n",
    "# season='winter'\n",
    "# plt.scatter(temp_last_daily[temp_last_daily.index.map(get_season)==season]['deviation'], dev_2017_daily[dev_2017_daily.index.map(get_season)==season]['quantity'], s=5, marker='.')\n",
    "\n",
    "temperature_consumption['season'] = temperature_consumption.index.map(get_season)\n",
    "\n",
    "temperature_consumption_seasonal = {k: g for k, g in temperature_consumption.groupby('season')}\n",
    "\n",
    "seasons = ['Winter', 'Spring', 'Summer', 'Autumn']"
   ]
  },
  {
   "cell_type": "markdown",
   "metadata": {},
   "source": [
    "### Exploratory data analysis\n",
    "\n",
    "To get an idea of what we may expect from our data, let us inspect some of its statistical properties. \n",
    "\n",
    "We start with seasonal scatter plots, that is, plots of the pairs (temp_deviation, surplus) for every day of 2017, that we enrich with histograms for the surplus and temperature deviation distributions, and a linear regression, to have an impression of the correlation between both variables."
   ]
  },
  {
   "cell_type": "code",
   "execution_count": 61,
   "metadata": {},
   "outputs": [
    {
     "data": {
      "image/png": "[encoded data removed]",
      "text/plain": [
       "<Figure size 432x432 with 3 Axes>"
      ]
     },
     "metadata": {},
     "output_type": "display_data"
    },
    {
     "data": {
      "image/png": "[encoded data removed]",
      "text/plain": [
       "<Figure size 432x432 with 3 Axes>"
      ]
     },
     "metadata": {},
     "output_type": "display_data"
    },
    {
     "data": {
      "image/png": "[encoded data removed]",
      "text/plain": [
       "<Figure size 432x432 with 3 Axes>"
      ]
     },
     "metadata": {},
     "output_type": "display_data"
    },
    {
     "data": {
      "image/png": "[encoded data removed]",
      "text/plain": [
       "<Figure size 432x432 with 3 Axes>"
      ]
     },
     "metadata": {},
     "output_type": "display_data"
    }
   ],
   "source": [
    "# unable to get jointplots as subplots\n",
    "# fig, axs = plt.subplots(4, 1, figsize=(6, 6))\n",
    "\n",
    "\n",
    "for season in seasons: \n",
    "    p = sns.jointplot(data=temperature_consumption_seasonal[season],\n",
    "                  x='temp_deviation', y='surplus', kind='reg',\n",
    "                  marginal_ticks=True, joint_kws=dict(ci=None),\n",
    "                  marginal_kws=dict(kde=False))\n",
    "    p.fig.suptitle(season, fontsize=18)\n",
    "    p.fig.tight_layout()\n",
    "    p.set_axis_labels('Temperature deviation', 'Electricity surplus', fontsize=14)\n",
    "\n",
    "\n",
    "\n",
    "\n"
   ]
  },
  {
   "cell_type": "markdown",
   "metadata": {},
   "source": [
    "The (Pearson) correlation coefficient quantifies the extent to which a linear relation might possibly hold between temperature and consumption deviations. As suspected from the plots above, the values computed below confirm that a linear trend might hold at best for winter and summer data."
   ]
  },
  {
   "cell_type": "code",
   "execution_count": 64,
   "metadata": {},
   "outputs": [
    {
     "data": {
      "text/html": [
       "<div>\n",
       "<style scoped>\n",
       "    .dataframe tbody tr th:only-of-type {\n",
       "        vertical-align: middle;\n",
       "    }\n",
       "\n",
       "    .dataframe tbody tr th {\n",
       "        vertical-align: top;\n",
       "    }\n",
       "\n",
       "    .dataframe thead th {\n",
       "        text-align: right;\n",
       "    }\n",
       "</style>\n",
       "<table border=\"1\" class=\"dataframe\">\n",
       "  <thead>\n",
       "    <tr style=\"text-align: right;\">\n",
       "      <th></th>\n",
       "      <th>Season</th>\n",
       "      <th>Pearson correlation</th>\n",
       "    </tr>\n",
       "  </thead>\n",
       "  <tbody>\n",
       "    <tr>\n",
       "      <th>0</th>\n",
       "      <td>Winter</td>\n",
       "      <td>0.273497</td>\n",
       "    </tr>\n",
       "    <tr>\n",
       "      <th>1</th>\n",
       "      <td>Spring</td>\n",
       "      <td>0.213786</td>\n",
       "    </tr>\n",
       "    <tr>\n",
       "      <th>2</th>\n",
       "      <td>Summer</td>\n",
       "      <td>-0.316538</td>\n",
       "    </tr>\n",
       "    <tr>\n",
       "      <th>3</th>\n",
       "      <td>Autumn</td>\n",
       "      <td>-0.015630</td>\n",
       "    </tr>\n",
       "  </tbody>\n",
       "</table>\n",
       "</div>"
      ],
      "text/plain": [
       "   Season  Pearson correlation\n",
       "0  Winter             0.273497\n",
       "1  Spring             0.213786\n",
       "2  Summer            -0.316538\n",
       "3  Autumn            -0.015630"
      ]
     },
     "execution_count": 64,
     "metadata": {},
     "output_type": "execute_result"
    }
   ],
   "source": [
    "pd.DataFrame({'Season': [season for season in seasons],'Pearson correlation': [temperature_consumption_seasonal[season]['temp_deviation'].corr(temperature_consumption_seasonal[season]['surplus']) for season in seasons]})"
   ]
  },
  {
   "cell_type": "markdown",
   "metadata": {},
   "source": [
    "### Question\n",
    "\n",
    "Can we say with a certain probability that we will have a surplus or a deficit in the grid depending on the temperature deviation?\n",
    "\n",
    "#### Answer:\n",
    "\n",
    "The task presented belongs to the class of statistical problems known as *classification problems*. Here, we aim to relate the possible outcomes of a **finite** variable to other *predictor* variables that we suspect may bear an influence on it. In our situation, the finite variable is `surplus_cat`: whether electricity consumption in France exhibited (on average) a surplus or deficit on a given day. The predictor variable we are currently accounting for is `temp_deviation`: by how much did the actual daily mean temperature on a given day in 2017 differed from the historical mean daily temperature on that day in previous years.\n",
    "\n",
    "Statistical models to address classification problems provide an estimate of the probability for the outcomes of the finite variables (e.g. `surplus_cat`) given the values of the predictor variables (e.g. `temp_deviation`). In the present case, since the consumption deviation data covers only year 2017, it would only be a rough estimate, though. If we had earlier records at our disposal, it would be possible to benchmark the quality of the probability estimate against its performance on the historical records. \n",
    "\n",
    "On the other hand, we are considering only the possible effect of temperature deviations on consumption deviations. Ideally, further variables besides temperature deviations should be available, which could capture the statistical nature of consumption deviations more faithfully and give us room (dimensions) to carry out a finer analysis.\n",
    "\n",
    "With that said, given the limited data, it is appropriate to favor simple models over more complicated ones, which more strongly rely on a richer availability of data (such as machine learning models)."
   ]
  },
  {
   "cell_type": "code",
   "execution_count": 68,
   "metadata": {},
   "outputs": [
    {
     "data": {
      "text/plain": [
       "<seaborn.axisgrid.FacetGrid at 0x7f8d60f0c7f0>"
      ]
     },
     "execution_count": 68,
     "metadata": {},
     "output_type": "execute_result"
    },
    {
     "data": {
      "image/png": "[encoded data removed]",
      "text/plain": [
       "<Figure size 430.175x360 with 1 Axes>"
      ]
     },
     "metadata": {},
     "output_type": "display_data"
    }
   ],
   "source": [
    "sns.displot(temperature_consumption_seasonal['Winter'], x='temp_deviation', hue='surplus_cat')"
   ]
  },
  {
   "cell_type": "code",
   "execution_count": 70,
   "metadata": {},
   "outputs": [
    {
     "data": {
      "text/plain": [
       "<seaborn.axisgrid.FacetGrid at 0x7f8d60f07e50>"
      ]
     },
     "execution_count": 70,
     "metadata": {},
     "output_type": "execute_result"
    },
    {
     "data": {
      "image/png": "[encoded data removed]",
      "text/plain": [
       "<Figure size 430.175x360 with 1 Axes>"
      ]
     },
     "metadata": {},
     "output_type": "display_data"
    }
   ],
   "source": [
    "sns.displot(temperature_consumption_seasonal['Summer'], x='temp_deviation', hue='surplus_cat')"
   ]
  },
  {
   "cell_type": "markdown",
   "metadata": {},
   "source": [
    "### Logistic regression"
   ]
  },
  {
   "cell_type": "markdown",
   "metadata": {},
   "source": [
    "In logistic regression, a specific functional dependence of the probability of outcomes on the predictor variables is assumed (the *log-odds* depend linearly on the predictor variables), and the parameters of the functional dependence are optimized to provide the best fit possible given the data at hand (e.g. using maximum likelihood estimation). Logistic regression is a well known method for classification problems, and is implemented in many libraries."
   ]
  },
  {
   "cell_type": "code",
   "execution_count": 65,
   "metadata": {},
   "outputs": [
    {
     "data": {
      "text/plain": [
       "<seaborn.axisgrid.FacetGrid at 0x7f8d61e6ae80>"
      ]
     },
     "execution_count": 65,
     "metadata": {},
     "output_type": "execute_result"
    },
    {
     "data": {
      "image/png": "[encoded data removed]",
      "text/plain": [
       "<Figure size 360x360 with 1 Axes>"
      ]
     },
     "metadata": {},
     "output_type": "display_data"
    }
   ],
   "source": [
    "sns.lmplot(data=temperature_consumption_seasonal['Winter'], x='temp_deviation', y='surplus_cat', logistic=True)"
   ]
  },
  {
   "cell_type": "markdown",
   "metadata": {},
   "source": [
    "### Linear discriminant analysis (LDA)"
   ]
  },
  {
   "cell_type": "code",
   "execution_count": null,
   "metadata": {},
   "outputs": [],
   "source": []
  }
 ],
 "metadata": {
  "kernelspec": {
   "display_name": "Python 3",
   "language": "python",
   "name": "python3"
  },
  "language_info": {
   "codemirror_mode": {
    "name": "ipython",
    "version": 3
   },
   "file_extension": ".py",
   "mimetype": "text/x-python",
   "name": "python",
   "nbconvert_exporter": "python",
   "pygments_lexer": "ipython3",
   "version": "3.8.5"
  }
 },
 "nbformat": 4,
 "nbformat_minor": 2
}
